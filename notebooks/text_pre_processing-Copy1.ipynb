{
 "cells": [
  {
   "cell_type": "code",
   "execution_count": 1,
   "metadata": {},
   "outputs": [
    {
     "data": {
      "text/plain": [
       "'/home/aantonison/workspace/text_info_project'"
      ]
     },
     "execution_count": 1,
     "metadata": {},
     "output_type": "execute_result"
    }
   ],
   "source": [
    "import pandas as pd\n",
    "import json\n",
    "import os\n",
    "os.chdir(\"../\")\n",
    "pd.options.display.max_colwidth = 100\n",
    "os.getcwd()"
   ]
  },
  {
   "cell_type": "code",
   "execution_count": 2,
   "metadata": {},
   "outputs": [],
   "source": [
    "input_file = 'data/report_info.json'\n",
    "output_file = 'data/base_fatality_reports.csv'\n",
    "state_map = pd.read_csv(\"reference/state_mapping.csv\")"
   ]
  },
  {
   "cell_type": "code",
   "execution_count": 3,
   "metadata": {},
   "outputs": [],
   "source": [
    "import numpy as np"
   ]
  },
  {
   "cell_type": "code",
   "execution_count": 6,
   "metadata": {},
   "outputs": [
    {
     "data": {
      "text/plain": [
       "33"
      ]
     },
     "execution_count": 6,
     "metadata": {},
     "output_type": "execute_result"
    }
   ],
   "source": [
    "df = pd.read_csv(\"data/base_fatality_reports.csv\", sep=\"|\")\n",
    "np.sum(df['f-p-desc-of-accident'].isnull())"
   ]
  },
  {
   "cell_type": "code",
   "execution_count": 10,
   "metadata": {},
   "outputs": [],
   "source": [
    "df = df[~df['f-p-desc-of-accident'].isnull()]"
   ]
  },
  {
   "cell_type": "code",
   "execution_count": 11,
   "metadata": {},
   "outputs": [
    {
     "data": {
      "text/html": [
       "<div>\n",
       "<style scoped>\n",
       "    .dataframe tbody tr th:only-of-type {\n",
       "        vertical-align: middle;\n",
       "    }\n",
       "\n",
       "    .dataframe tbody tr th {\n",
       "        vertical-align: top;\n",
       "    }\n",
       "\n",
       "    .dataframe thead th {\n",
       "        text-align: right;\n",
       "    }\n",
       "</style>\n",
       "<table border=\"1\" class=\"dataframe\">\n",
       "  <thead>\n",
       "    <tr style=\"text-align: right;\">\n",
       "      <th></th>\n",
       "      <th>f-p-desc-of-accident</th>\n",
       "      <th>f-p-desc-of-accident_p</th>\n",
       "    </tr>\n",
       "  </thead>\n",
       "  <tbody>\n",
       "    <tr>\n",
       "      <th>7</th>\n",
       "      <td>at approximately 7:30 a.m., shawn clements and derrick hensler, m.c. electric’s electricians, me...</td>\n",
       "      <td>at approximately  am shawn clements and derrick hensler mc electrics electricians met with nate ...</td>\n",
       "    </tr>\n",
       "    <tr>\n",
       "      <th>9</th>\n",
       "      <td>on august 2, 2019, at 6:00 a.m., astle and other members of the kilroy crew arrived at the\\nsmok...</td>\n",
       "      <td>on august   at  am astle and other members of the kilroy crew arrived at thesmoky canyons mine o...</td>\n",
       "    </tr>\n",
       "    <tr>\n",
       "      <th>11</th>\n",
       "      <td>on july 15, 2019, ryan charbonneau attempted to remove the hammer from the excavator before usin...</td>\n",
       "      <td>on july   ryan charbonneau attempted to remove the hammer from the excavator before using it to ...</td>\n",
       "    </tr>\n",
       "    <tr>\n",
       "      <th>12</th>\n",
       "      <td>on june 24, 2019, at 7:00 a.m., northwest employees witte; madison mcdonald, crane operator; cha...</td>\n",
       "      <td>on june   at  am northwest employees witte madison mcdonald crane operator charles morgan rigger...</td>\n",
       "    </tr>\n",
       "    <tr>\n",
       "      <th>13</th>\n",
       "      <td>on june 10, 2019, sawasky arrived at the mine site at 6:00 a.m., to continue installing electric...</td>\n",
       "      <td>on june   sawasky arrived at the mine site at  am to continue installing electrical lines for a ...</td>\n",
       "    </tr>\n",
       "    <tr>\n",
       "      <th>...</th>\n",
       "      <td>...</td>\n",
       "      <td>...</td>\n",
       "    </tr>\n",
       "    <tr>\n",
       "      <th>423</th>\n",
       "      <td>on the day of the accident, stanley xavier (victim) reported to work at the robertson's transpor...</td>\n",
       "      <td>on the day of the accident stanley xavier victim reported to work at the robertsons transport ya...</td>\n",
       "    </tr>\n",
       "    <tr>\n",
       "      <th>424</th>\n",
       "      <td>the night shift crew started at 11:00 p.m., on january 11, 2008. larry nelson, operations superv...</td>\n",
       "      <td>the night shift crew started at  pm on january   larry nelson operations supervisor assigned tho...</td>\n",
       "    </tr>\n",
       "    <tr>\n",
       "      <th>425</th>\n",
       "      <td>on monday, january 7, 2008, roy d. sturgill, a contract miner, started the second (afternoon) sh...</td>\n",
       "      <td>on monday january   roy d sturgill a contract miner started the second afternoon shift at approi...</td>\n",
       "    </tr>\n",
       "    <tr>\n",
       "      <th>426</th>\n",
       "      <td>\\non the day of the accident, billy c. wallace (victim) reported to work at 7:00 a.m., his norma...</td>\n",
       "      <td>on the day of the accident billy c wallace victim reported to work at  am his normal starting ti...</td>\n",
       "    </tr>\n",
       "    <tr>\n",
       "      <th>428</th>\n",
       "      <td>on january 24, 2007, phillip o. markhart, (victim), and monte nelson, miner, started to work at ...</td>\n",
       "      <td>on january   phillip o markhart victim and monte nelson miner started to work at  pm in the wdj ...</td>\n",
       "    </tr>\n",
       "  </tbody>\n",
       "</table>\n",
       "<p>397 rows × 2 columns</p>\n",
       "</div>"
      ],
      "text/plain": [
       "                                                                                    f-p-desc-of-accident  \\\n",
       "7    at approximately 7:30 a.m., shawn clements and derrick hensler, m.c. electric’s electricians, me...   \n",
       "9    on august 2, 2019, at 6:00 a.m., astle and other members of the kilroy crew arrived at the\\nsmok...   \n",
       "11   on july 15, 2019, ryan charbonneau attempted to remove the hammer from the excavator before usin...   \n",
       "12   on june 24, 2019, at 7:00 a.m., northwest employees witte; madison mcdonald, crane operator; cha...   \n",
       "13   on june 10, 2019, sawasky arrived at the mine site at 6:00 a.m., to continue installing electric...   \n",
       "..                                                                                                   ...   \n",
       "423  on the day of the accident, stanley xavier (victim) reported to work at the robertson's transpor...   \n",
       "424  the night shift crew started at 11:00 p.m., on january 11, 2008. larry nelson, operations superv...   \n",
       "425  on monday, january 7, 2008, roy d. sturgill, a contract miner, started the second (afternoon) sh...   \n",
       "426  \\non the day of the accident, billy c. wallace (victim) reported to work at 7:00 a.m., his norma...   \n",
       "428  on january 24, 2007, phillip o. markhart, (victim), and monte nelson, miner, started to work at ...   \n",
       "\n",
       "                                                                                  f-p-desc-of-accident_p  \n",
       "7    at approximately  am shawn clements and derrick hensler mc electrics electricians met with nate ...  \n",
       "9    on august   at  am astle and other members of the kilroy crew arrived at thesmoky canyons mine o...  \n",
       "11   on july   ryan charbonneau attempted to remove the hammer from the excavator before using it to ...  \n",
       "12   on june   at  am northwest employees witte madison mcdonald crane operator charles morgan rigger...  \n",
       "13   on june   sawasky arrived at the mine site at  am to continue installing electrical lines for a ...  \n",
       "..                                                                                                   ...  \n",
       "423  on the day of the accident stanley xavier victim reported to work at the robertsons transport ya...  \n",
       "424  the night shift crew started at  pm on january   larry nelson operations supervisor assigned tho...  \n",
       "425  on monday january   roy d sturgill a contract miner started the second afternoon shift at approi...  \n",
       "426  on the day of the accident billy c wallace victim reported to work at  am his normal starting ti...  \n",
       "428  on january   phillip o markhart victim and monte nelson miner started to work at  pm in the wdj ...  \n",
       "\n",
       "[397 rows x 2 columns]"
      ]
     },
     "execution_count": 11,
     "metadata": {},
     "output_type": "execute_result"
    }
   ],
   "source": [
    "df.loc[:,('f-p-desc-of-accident', 'f-p-desc-of-accident_p')]"
   ]
  }
 ],
 "metadata": {
  "kernelspec": {
   "display_name": "Python (text_info)",
   "language": "python",
   "name": "text_info"
  },
  "language_info": {
   "codemirror_mode": {
    "name": "ipython",
    "version": 3
   },
   "file_extension": ".py",
   "mimetype": "text/x-python",
   "name": "python",
   "nbconvert_exporter": "python",
   "pygments_lexer": "ipython3",
   "version": "3.6.8"
  }
 },
 "nbformat": 4,
 "nbformat_minor": 2
}
