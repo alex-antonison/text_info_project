{
 "cells": [
  {
   "cell_type": "code",
   "execution_count": 1,
   "metadata": {},
   "outputs": [
    {
     "data": {
      "text/plain": [
       "'/home/aantonison/workspace/text_info_project'"
      ]
     },
     "execution_count": 1,
     "metadata": {},
     "output_type": "execute_result"
    }
   ],
   "source": [
    "import pandas as pd\n",
    "import json\n",
    "import os\n",
    "os.chdir(\"../\")\n",
    "pd.options.display.max_colwidth = 100\n",
    "os.getcwd()"
   ]
  },
  {
   "cell_type": "code",
   "execution_count": 2,
   "metadata": {},
   "outputs": [],
   "source": [
    "input_file = 'data/report_info.json'\n",
    "output_file = 'data/base_fatality_reports.csv'\n",
    "state_map = pd.read_csv(\"reference/state_mapping.csv\")"
   ]
  },
  {
   "cell_type": "code",
   "execution_count": 7,
   "metadata": {},
   "outputs": [
    {
     "data": {
      "text/plain": [
       "0      NaN\n",
       "1      NaN\n",
       "2      NaN\n",
       "3      NaN\n",
       "4      NaN\n",
       "      ... \n",
       "424    NaN\n",
       "425    NaN\n",
       "426    NaN\n",
       "427    NaN\n",
       "428    NaN\n",
       "Name: f-p-desc-of-accident, Length: 429, dtype: object"
      ]
     },
     "execution_count": 7,
     "metadata": {},
     "output_type": "execute_result"
    }
   ],
   "source": [
    "df = pd.read_csv(\"data/base_fatality_reports.csv\")\n",
    "df['f-p-desc-of-accident']"
   ]
  }
 ],
 "metadata": {
  "kernelspec": {
   "display_name": "Python (text_info)",
   "language": "python",
   "name": "text_info"
  },
  "language_info": {
   "codemirror_mode": {
    "name": "ipython",
    "version": 3
   },
   "file_extension": ".py",
   "mimetype": "text/x-python",
   "name": "python",
   "nbconvert_exporter": "python",
   "pygments_lexer": "ipython3",
   "version": "3.6.8"
  }
 },
 "nbformat": 4,
 "nbformat_minor": 2
}
