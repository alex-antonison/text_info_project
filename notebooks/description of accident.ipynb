{
 "cells": [
  {
   "cell_type": "code",
   "execution_count": 6,
   "metadata": {},
   "outputs": [],
   "source": [
    "pd.options.display.max_colwidth = 100"
   ]
  },
  {
   "cell_type": "code",
   "execution_count": 1,
   "metadata": {},
   "outputs": [],
   "source": [
    "import pandas as pd\n",
    "import json\n",
    "\n",
    "with open(\"../data/report_info.json\") as json_file:\n",
    "    data = json.load(json_file)\n",
    "    \n",
    "# turn dictionary into dataframe\n",
    "df = pd.DataFrame.from_dict(data, orient='index').reset_index()\n",
    "\n",
    "# rename index into report_key\n",
    "df.rename(columns={'index':'report_key'}, inplace=True)"
   ]
  },
  {
   "cell_type": "code",
   "execution_count": 25,
   "metadata": {},
   "outputs": [],
   "source": [
    "df_with_final_report = df[~df['final-report'].isnull()].reset_index(drop=True)"
   ]
  },
  {
   "cell_type": "code",
   "execution_count": 30,
   "metadata": {},
   "outputs": [
    {
     "data": {
      "text/plain": [
       "'On Friday, January 4, 2019, John D. Ditterline, Contract Laborer, reported to work on the 3rd shift which began at 11:00 p.m. \\xa0Harvey Niehaus, Assistant Mine Manager, was traveling through the main shaft bottom area and heard a “whistling” sound near the stopping in the No. 4 entry between footage markers 200 and 300. \\xa0Niehaus continued traveling to check on a belt and electrical power move, and then returned and found the stopping was bowing in the center and leaking across the top.\\xa0 Niehaus told Jim Payne, Supply Man, to remove the supply trailers from the crosscut and bring one pallet of concrete blocks to the damaged stopping location.Niehaus next traveled to the 4 Left head drive area and told Matthew Wright, Johnny Hettercheidt, and Jason Wilson, Contract Laborers, to travel to the bottom area and start working on building a stopping inby the damaged stopping. \\xa0Niehaus stopped at the West Main head drive where Ditterline and John Holland, General Laborer, were working. \\xa0He told them to travel to the bottom area and help the other miners build a new stopping. \\xa0Niehaus proceeded on to the 9 Left mining section.Holland and Ditterline arrived at the bottom area and met with Wright, Hettercheidt, and Wilson to build the stopping. \\xa0The area where they were building the new stopping had two 110 volt shop lights that needed to be removed. \\xa0To determine the location of the power cable that provided power to the lights, Ditterline traveled outby towards the pneumatic airlock doors located in the crosscut between entry 4 and entry 5 at footage markers 100 and 200 (see Appendix A). \\xa0He walked through the inby set of doors and closed them behind him, following the power cable for the lights. \\xa0Surveillance video shows that after Ditterline activated the outby set of pneumatic airlock doors, at 3:18 a.m., the indicator lights for the doors began flashing, which means the doors went into fault condition.\\xa0 There were no witnesses to what followed, but evidence indicated that Ditterline walked up to the doors, opened the slide access door and the airlock doors opened suddenly, hitting him and pinning him between one of the doors and the concrete barrier. \\xa0When the doors opened, Holland, Hettercheidt, Wright and Wilson could hear and feel the air velocity increase at the damaged stopping.Payne was working nearby and walked through the boot wash area to the shaft bottom. \\xa0Once at the hoist, Payne noticed the opened airlock doors and a leg extending through the slide access door.\\xa0 He ran toward the airlock doors and found Ditterline at 3:22 a.m., pinned behind the left airlock door.\\xa0 Ditterline was unresponsive.\\xa0 Payne immediately called on the radio for Holland to come to the shaft bottom. \\xa0Holland, Wright, Hettercheidt, and Wilson traveled to the shaft bottom to help.\\xa0 Holland tried to clear the fault condition at both sets of electronic sensors for the doors. \\xa0Once the doors started to close, Wilson and Hettercheidt pulled Ditterline out and laid him on his back.\\xa0 Ditterline was still unresponsive. \\xa0Wilson, who is an Emergency Medical Technician (EMT), and Holland started cardiopulmonary resuscitation (CPR).\\xa0 Hettercheidt assisted with CPR while Wright went to get an automated external defibrillator (AED) from the shop.Niehaus heard Payne call on the radio and traveled from the 9 Left mining section outby towards the bottom area. \\xa0Niehaus picked up Michael Welch, Contract Laborer/EMT and they proceeded to the accident scene.\\xa0 When Niehaus and Welch arrived, Wilson and Holland were still performing CPR. \\xa0An AED was applied to Ditterline, but the diagnostic function of the AED indicated that no shock be administered.\\xa0 They placed Ditterline on a backboard and carried him to the hoist for transport to the surface. \\xa0Upon arrival on the surface, Harre Ambulance service took over care of Ditterline and transported him to Hamilton Memorial Hospital.James Steven Bowling, Hamilton County Coroner, pronounced Ditterline dead at 4:45 a.m.\\xa0 Dr. James Jacoby, Forensic Pathologist, performed an autopsy and stated that Ditterline’s death was due to a cardiomyopathy.\\xa0 Coroner Bowling listed cardiomyopathy as the cause of death on the State of Illinois Certificate of Death Worksheet.\\xa0 The worksheet also states that the manner of death was “natural.”When a miner’s death is not conclusively determined to be chargeable to the mining industry, MSHA submits the case, including facts and supporting information, to the MSHA Chargeability Review Committee (Review Committee) for a decision.\\xa0 The review committee has been in existence since 2008 and has reviewed over 500 cases.\\xa0 The Review Committee is currently comprised of the following persons:Reviewing Medical Official, Federal Occupational Health\\nAssociate Solicitor for Mine Safety and Health\\nDirector of the MSHA Office of Assessments\\nDirector of the MSHA Office of Program Evaluation and Information Resources\\nDirector of the MSHA Office of Educational Policy and Development (Chair)\\nAfter a thorough review of the facts and medical information, the Review Committee found that, “acute stress cardiomyopathy can occur when an individual is exposed to sudden, intense physical or emotional (grief, fear) stress which causes rapid and severe heart muscle weakness. \\xa0Acute stress cardiomyopathy can mimic a myocardial infarction (a heart attack) even in the absence of obstructive coronary artery disease.”\\xa0 “Because 1) Mr. Ditterline was seen on video moments before the door accident in no apparent distress, 2) the door slam was a significantly traumatic event, and 3) the death occurred at the time of the door slam, the Review Committee members [concluded] it is probable that the trauma of the accident triggered acute stress cardiomyopathy.”\\xa0 Therefore, the Review Committee stated, “Mr. Ditterline’s death should be charged to the mining industry.”'"
      ]
     },
     "execution_count": 30,
     "metadata": {},
     "output_type": "execute_result"
    }
   ],
   "source": [
    "df_with_final_report.loc[10,'final-report']['DESCRIPTION OF ACCIDENT']"
   ]
  }
 ],
 "metadata": {
  "kernelspec": {
   "display_name": "Python (text_info)",
   "language": "python",
   "name": "text_info"
  },
  "language_info": {
   "codemirror_mode": {
    "name": "ipython",
    "version": 3
   },
   "file_extension": ".py",
   "mimetype": "text/x-python",
   "name": "python",
   "nbconvert_exporter": "python",
   "pygments_lexer": "ipython3",
   "version": "3.6.8"
  }
 },
 "nbformat": 4,
 "nbformat_minor": 2
}
