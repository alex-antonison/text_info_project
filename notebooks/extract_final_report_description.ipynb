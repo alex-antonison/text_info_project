{
 "cells": [
  {
   "cell_type": "code",
   "execution_count": 1,
   "metadata": {},
   "outputs": [
    {
     "data": {
      "text/plain": [
       "'/mnt/c/Users/adant/workspace/text_info_project'"
      ]
     },
     "execution_count": 1,
     "metadata": {},
     "output_type": "execute_result"
    }
   ],
   "source": [
    "import pandas as pd\n",
    "import json\n",
    "import os\n",
    "os.chdir(\"../\")\n",
    "pd.options.display.max_colwidth = 100\n",
    "os.getcwd()"
   ]
  },
  {
   "cell_type": "code",
   "execution_count": 3,
   "metadata": {},
   "outputs": [],
   "source": [
    "input_file = 'data/report_info.json'\n",
    "output_file = 'data/base_fatality_reports.csv'\n",
    "state_map = pd.read_csv(\"reference/state_mapping.csv\")"
   ]
  },
  {
   "cell_type": "code",
   "execution_count": 64,
   "metadata": {},
   "outputs": [],
   "source": [
    "with open(input_file) as json_file:\n",
    "    data = json.load(json_file)\n",
    "\n",
    "df = pd.DataFrame.from_dict(data, orient='index').reset_index()\n",
    "\n",
    "df.rename(columns={'index':'report-key'}, inplace=True)\n",
    "\n",
    "df = df.loc[:,('report-key', 'final-report')]\n",
    "\n",
    "df = df[~df['final-report'].isnull()]"
   ]
  },
  {
   "cell_type": "code",
   "execution_count": 65,
   "metadata": {},
   "outputs": [
    {
     "data": {
      "text/html": [
       "<div>\n",
       "<style scoped>\n",
       "    .dataframe tbody tr th:only-of-type {\n",
       "        vertical-align: middle;\n",
       "    }\n",
       "\n",
       "    .dataframe tbody tr th {\n",
       "        vertical-align: top;\n",
       "    }\n",
       "\n",
       "    .dataframe thead th {\n",
       "        text-align: right;\n",
       "    }\n",
       "</style>\n",
       "<table border=\"1\" class=\"dataframe\">\n",
       "  <thead>\n",
       "    <tr style=\"text-align: right;\">\n",
       "      <th></th>\n",
       "      <th>report-key</th>\n",
       "      <th>final-report</th>\n",
       "    </tr>\n",
       "  </thead>\n",
       "  <tbody>\n",
       "    <tr>\n",
       "      <th>25</th>\n",
       "      <td>/data-reports/fatality-reports/2018/fatality-16-november-11-2018</td>\n",
       "      <td>{}</td>\n",
       "    </tr>\n",
       "    <tr>\n",
       "      <th>26</th>\n",
       "      <td>/data-reports/fatality-reports/2018/fatality-15-november-3-2018</td>\n",
       "      <td>{}</td>\n",
       "    </tr>\n",
       "    <tr>\n",
       "      <th>27</th>\n",
       "      <td>/data-reports/fatality-reports/2018/fatality-14-october-25-2018</td>\n",
       "      <td>{}</td>\n",
       "    </tr>\n",
       "    <tr>\n",
       "      <th>28</th>\n",
       "      <td>/data-reports/fatality-reports/2018/fatality-13-october-25-2018</td>\n",
       "      <td>{}</td>\n",
       "    </tr>\n",
       "    <tr>\n",
       "      <th>31</th>\n",
       "      <td>/data-reports/fatality-reports/2018/fatality-11-october-11-2018</td>\n",
       "      <td>{}</td>\n",
       "    </tr>\n",
       "    <tr>\n",
       "      <th>...</th>\n",
       "      <td>...</td>\n",
       "      <td>...</td>\n",
       "    </tr>\n",
       "    <tr>\n",
       "      <th>423</th>\n",
       "      <td>/data-reports/fatality-reports/2008/fatality-2-january-12-2008</td>\n",
       "      <td>{}</td>\n",
       "    </tr>\n",
       "    <tr>\n",
       "      <th>424</th>\n",
       "      <td>/data-reports/fatality-reports/2008/fatality-1-january-8-2008</td>\n",
       "      <td>{}</td>\n",
       "    </tr>\n",
       "    <tr>\n",
       "      <th>425</th>\n",
       "      <td>/data-reports/fatality-reports/2007/fatality-3-february-19-2007</td>\n",
       "      <td>{}</td>\n",
       "    </tr>\n",
       "    <tr>\n",
       "      <th>427</th>\n",
       "      <td>/data-reports/fatality-reports/2007/fatality-2-january-25-2007</td>\n",
       "      <td>{}</td>\n",
       "    </tr>\n",
       "    <tr>\n",
       "      <th>428</th>\n",
       "      <td>/data-reports/fatality-reports/2007/fatality-1-january-2-2007</td>\n",
       "      <td>{}</td>\n",
       "    </tr>\n",
       "  </tbody>\n",
       "</table>\n",
       "<p>308 rows × 2 columns</p>\n",
       "</div>"
      ],
      "text/plain": [
       "                                                           report-key  \\\n",
       "25   /data-reports/fatality-reports/2018/fatality-16-november-11-2018   \n",
       "26    /data-reports/fatality-reports/2018/fatality-15-november-3-2018   \n",
       "27    /data-reports/fatality-reports/2018/fatality-14-october-25-2018   \n",
       "28    /data-reports/fatality-reports/2018/fatality-13-october-25-2018   \n",
       "31    /data-reports/fatality-reports/2018/fatality-11-october-11-2018   \n",
       "..                                                                ...   \n",
       "423    /data-reports/fatality-reports/2008/fatality-2-january-12-2008   \n",
       "424     /data-reports/fatality-reports/2008/fatality-1-january-8-2008   \n",
       "425   /data-reports/fatality-reports/2007/fatality-3-february-19-2007   \n",
       "427    /data-reports/fatality-reports/2007/fatality-2-january-25-2007   \n",
       "428     /data-reports/fatality-reports/2007/fatality-1-january-2-2007   \n",
       "\n",
       "    final-report  \n",
       "25            {}  \n",
       "26            {}  \n",
       "27            {}  \n",
       "28            {}  \n",
       "31            {}  \n",
       "..           ...  \n",
       "423           {}  \n",
       "424           {}  \n",
       "425           {}  \n",
       "427           {}  \n",
       "428           {}  \n",
       "\n",
       "[308 rows x 2 columns]"
      ]
     },
     "execution_count": 65,
     "metadata": {},
     "output_type": "execute_result"
    }
   ],
   "source": [
    "df[df['final-report'] == {}]"
   ]
  }
 ],
 "metadata": {
  "kernelspec": {
   "display_name": "text_info",
   "language": "python",
   "name": "text_info"
  },
  "language_info": {
   "codemirror_mode": {
    "name": "ipython",
    "version": 3
   },
   "file_extension": ".py",
   "mimetype": "text/x-python",
   "name": "python",
   "nbconvert_exporter": "python",
   "pygments_lexer": "ipython3",
   "version": "3.7.5"
  }
 },
 "nbformat": 4,
 "nbformat_minor": 2
}
