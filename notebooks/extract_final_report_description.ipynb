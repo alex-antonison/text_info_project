{
 "cells": [
  {
   "cell_type": "code",
   "execution_count": 1,
   "metadata": {},
   "outputs": [
    {
     "data": {
      "text/plain": [
       "'/home/aantonison/workspace/text_info_project'"
      ]
     },
     "execution_count": 1,
     "metadata": {},
     "output_type": "execute_result"
    }
   ],
   "source": [
    "import pandas as pd\n",
    "import json\n",
    "import os\n",
    "os.chdir(\"../\")\n",
    "pd.options.display.max_colwidth = 100\n",
    "os.getcwd()"
   ]
  },
  {
   "cell_type": "code",
   "execution_count": 2,
   "metadata": {},
   "outputs": [],
   "source": [
    "input_file = 'data/report_info.json'\n",
    "output_file = 'data/base_fatality_reports.csv'\n",
    "state_map = pd.read_csv(\"reference/state_mapping.csv\")"
   ]
  },
  {
   "cell_type": "code",
   "execution_count": 21,
   "metadata": {},
   "outputs": [
    {
     "data": {
      "text/plain": [
       "430"
      ]
     },
     "execution_count": 21,
     "metadata": {},
     "output_type": "execute_result"
    }
   ],
   "source": [
    "len(df)"
   ]
  },
  {
   "cell_type": "code",
   "execution_count": 20,
   "metadata": {},
   "outputs": [],
   "source": [
    "with open(input_file) as json_file:\n",
    "    data = json.load(json_file)\n",
    "\n",
    "df = pd.DataFrame.from_dict(data, orient='index').reset_index()\n",
    "\n",
    "df.rename(columns={'index':'report-key'}, inplace=True)\n",
    "\n",
    "df = df.loc[:,('report-key', 'report-url', 'final-report')]"
   ]
  },
  {
   "cell_type": "code",
   "execution_count": 4,
   "metadata": {},
   "outputs": [
    {
     "name": "stdout",
     "output_type": "stream",
     "text": [
      "179 Does not have Description of Accident\n",
      "263 Does not have Description of Accident\n",
      "294 Does not have Description of Accident\n",
      "299 Does not have Description of Accident\n",
      "300 Does not have Description of Accident\n",
      "301 Does not have Description of Accident\n"
     ]
    }
   ],
   "source": [
    "with open(input_file) as json_file:\n",
    "    data = json.load(json_file)\n",
    "\n",
    "df = pd.DataFrame.from_dict(data, orient='index').reset_index()\n",
    "\n",
    "df.rename(columns={'index':'report-key'}, inplace=True)\n",
    "\n",
    "df = df.loc[:,('report-key', 'report-url', 'final-report')]\n",
    "\n",
    "df = df[~df['final-report'].isnull()]\n",
    "\n",
    "df = df[df['final-report'] != {}].loc[:,('report-key', 'final-report')].reset_index(drop=True)\n",
    "\n",
    "df['f-p-desc-of-accident'] = ''\n",
    "\n",
    "for item in range(df.shape[0]-1):\n",
    "    keys = [x.lower() for x in df.loc[item, 'final-report'].keys()]\n",
    "    \n",
    "    if 'description of accident' in keys:\n",
    "        df.loc[item,'f-p-desc-of-accident'] = df.loc[item,'final-report']['description of accident']\n",
    "    elif 'description of the accident' in keys:\n",
    "        df.loc[item,'f-p-desc-of-accident'] = df.loc[item,'final-report']['description of the accident']\n",
    "    else:\n",
    "        print(str(item) + \" Does not have Description of Accident\")"
   ]
  },
  {
   "cell_type": "code",
   "execution_count": 9,
   "metadata": {},
   "outputs": [],
   "source": [
    "import numpy as np"
   ]
  },
  {
   "cell_type": "code",
   "execution_count": 19,
   "metadata": {},
   "outputs": [
    {
     "data": {
      "text/plain": [
       "397"
      ]
     },
     "execution_count": 19,
     "metadata": {},
     "output_type": "execute_result"
    }
   ],
   "source": [
    "np.sum(df['f-p-desc-of-accident'] != '')"
   ]
  },
  {
   "cell_type": "code",
   "execution_count": 91,
   "metadata": {},
   "outputs": [
    {
     "name": "stdout",
     "output_type": "stream",
     "text": [
      "8 Does not have Description of Accident\n",
      "19 Does not have Description of Accident\n",
      "21 Does not have Description of Accident\n",
      "24 Does not have Description of Accident\n",
      "44 Does not have Description of Accident\n",
      "45 Does not have Description of Accident\n",
      "59 Does not have Description of Accident\n",
      "60 Does not have Description of Accident\n",
      "63 Does not have Description of Accident\n",
      "68 Does not have Description of Accident\n",
      "92 Does not have Description of Accident\n",
      "94 Does not have Description of Accident\n"
     ]
    }
   ],
   "source": [
    "df['f-p-desc-of-accident'] = ''\n",
    "\n",
    "for item in range(df.shape[0]-1):\n",
    "    keys = [x.lower() for x in df.loc[item, 'final-report'].keys()]\n",
    "    \n",
    "    if 'DESCRIPTION OF ACCIDENT'.lower() in keys:\n",
    "        df.loc[item,'f-p-desc-of-accident'] = df.loc[item,'final-report']['DESCRIPTION OF ACCIDENT'].lower()\n",
    "    elif 'DESCRIPTION OF THE ACCIDENT'.lower() in keys:\n",
    "        df.loc[item,'f-p-desc-of-accident'] = df.loc[item,'final-report']['DESCRIPTION OF THE ACCIDENT'].lower()\n",
    "    else:\n",
    "        print(str(item) + \" Does not have Description of Accident\")"
   ]
  },
  {
   "cell_type": "code",
   "execution_count": null,
   "metadata": {},
   "outputs": [],
   "source": []
  }
 ],
 "metadata": {
  "kernelspec": {
   "display_name": "Python (text_info)",
   "language": "python",
   "name": "text_info"
  },
  "language_info": {
   "codemirror_mode": {
    "name": "ipython",
    "version": 3
   },
   "file_extension": ".py",
   "mimetype": "text/x-python",
   "name": "python",
   "nbconvert_exporter": "python",
   "pygments_lexer": "ipython3",
   "version": "3.6.8"
  }
 },
 "nbformat": 4,
 "nbformat_minor": 2
}
