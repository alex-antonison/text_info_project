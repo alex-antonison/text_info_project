{
 "cells": [
  {
   "cell_type": "code",
   "execution_count": 1,
   "metadata": {},
   "outputs": [
    {
     "data": {
      "text/plain": [
       "'/home/aantonison/workspace/text_info_project'"
      ]
     },
     "execution_count": 1,
     "metadata": {},
     "output_type": "execute_result"
    }
   ],
   "source": [
    "import pandas as pd\n",
    "import json\n",
    "import os\n",
    "os.chdir(\"../\")\n",
    "pd.options.display.max_colwidth = 100\n",
    "os.getcwd()"
   ]
  },
  {
   "cell_type": "code",
   "execution_count": 2,
   "metadata": {},
   "outputs": [],
   "source": [
    "input_file = 'data/report_info.json'\n",
    "output_file = 'data/base_fatality_reports.csv'\n",
    "state_map = pd.read_csv(\"reference/state_mapping.csv\")"
   ]
  },
  {
   "cell_type": "code",
   "execution_count": 4,
   "metadata": {},
   "outputs": [],
   "source": [
    "with open(input_file) as json_file:\n",
    "    data = json.load(json_file)\n",
    "\n",
    "df = pd.DataFrame.from_dict(data, orient='index').reset_index()\n",
    "\n",
    "df.rename(columns={'index':'report-key'}, inplace=True)\n",
    "\n",
    "df = df.loc[:,('report-key', 'report-url', 'final-report')]"
   ]
  },
  {
   "cell_type": "code",
   "execution_count": 9,
   "metadata": {},
   "outputs": [
    {
     "name": "stdout",
     "output_type": "stream",
     "text": [
      "179 Does not have Description of Accident\n",
      "263 Does not have Description of Accident\n",
      "294 Does not have Description of Accident\n",
      "299 Does not have Description of Accident\n",
      "300 Does not have Description of Accident\n",
      "301 Does not have Description of Accident\n"
     ]
    }
   ],
   "source": [
    "with open(input_file) as json_file:\n",
    "    data = json.load(json_file)\n",
    "\n",
    "df = pd.DataFrame.from_dict(data, orient='index').reset_index()\n",
    "\n",
    "df.rename(columns={'index':'report-key'}, inplace=True)\n",
    "\n",
    "df = df.loc[:,('report-key', 'report-url', 'final-report')]\n",
    "\n",
    "df = df[~df['final-report'].isnull()]\n",
    "\n",
    "df = df[df['final-report'] != {}].loc[:,('report-key', 'report-url', 'final-report')].reset_index(drop=True)\n",
    "\n",
    "df['f-p-desc-of-accident'] = ''\n",
    "\n",
    "for item in range(df.shape[0]-1):\n",
    "    keys = [x.lower() for x in df.loc[item, 'final-report'].keys()]\n",
    "    \n",
    "    if 'description of accident' in keys:\n",
    "        df.loc[item,'f-p-desc-of-accident'] = df.loc[item,'final-report']['description of accident']\n",
    "    elif 'description of the accident' in keys:\n",
    "        df.loc[item,'f-p-desc-of-accident'] = df.loc[item,'final-report']['description of the accident']\n",
    "    else:\n",
    "        print(str(item) + \" Does not have Description of Accident\")"
   ]
  },
  {
   "cell_type": "code",
   "execution_count": 9,
   "metadata": {},
   "outputs": [],
   "source": [
    "import numpy as np"
   ]
  },
  {
   "cell_type": "code",
   "execution_count": 10,
   "metadata": {},
   "outputs": [
    {
     "data": {
      "text/html": [
       "<div>\n",
       "<style scoped>\n",
       "    .dataframe tbody tr th:only-of-type {\n",
       "        vertical-align: middle;\n",
       "    }\n",
       "\n",
       "    .dataframe tbody tr th {\n",
       "        vertical-align: top;\n",
       "    }\n",
       "\n",
       "    .dataframe thead th {\n",
       "        text-align: right;\n",
       "    }\n",
       "</style>\n",
       "<table border=\"1\" class=\"dataframe\">\n",
       "  <thead>\n",
       "    <tr style=\"text-align: right;\">\n",
       "      <th></th>\n",
       "      <th>report-key</th>\n",
       "      <th>report-url</th>\n",
       "      <th>final-report</th>\n",
       "      <th>f-p-desc-of-accident</th>\n",
       "    </tr>\n",
       "  </thead>\n",
       "  <tbody>\n",
       "    <tr>\n",
       "      <th>179</th>\n",
       "      <td>/data-reports/fatality-reports/2013/fatality-13-august-16-2013</td>\n",
       "      <td>https://www.msha.gov/data-reports/fatality-reports/2013/fatality-13-august-16-2013</td>\n",
       "      <td>{'header': ' cai-2013-13\n",
       "united states\n",
       "department of labor\n",
       "mine safety and health administration...</td>\n",
       "      <td></td>\n",
       "    </tr>\n",
       "    <tr>\n",
       "      <th>263</th>\n",
       "      <td>/data-reports/fatality-reports/2011/fatality-8-june-27-2011</td>\n",
       "      <td>https://www.msha.gov/data-reports/fatality-reports/2011/fatality-8-june-27-2011</td>\n",
       "      <td>{'header': ' cai-2011-08united states\n",
       "department of labor\n",
       "mine safety and health administration\n",
       "...</td>\n",
       "      <td></td>\n",
       "    </tr>\n",
       "    <tr>\n",
       "      <th>294</th>\n",
       "      <td>/data-reports/fatality-reports/2010/fatality-41-july-9-2010</td>\n",
       "      <td>https://www.msha.gov/data-reports/fatality-reports/2010/fatality-41-july-9-2010</td>\n",
       "      <td>{'header': 'cai-2010-41\n",
       "  ', 'overview': 'at approximately 12:35 p.m., on friday, july 9, 2010, ...</td>\n",
       "      <td></td>\n",
       "    </tr>\n",
       "    <tr>\n",
       "      <th>299</th>\n",
       "      <td>/data-reports/fatality-reports/2010/fatality-38-june-16-2010</td>\n",
       "      <td>https://www.msha.gov/data-reports/fatality-reports/2010/fatality-38-june-16-2010</td>\n",
       "      <td>{'header': 'cai-2010-38united states \n",
       "department of labor\n",
       "mine safety and health administration\n",
       "...</td>\n",
       "      <td></td>\n",
       "    </tr>\n",
       "    <tr>\n",
       "      <th>300</th>\n",
       "      <td>/data-reports/fatality-reports/2010/fatality-10-june-12-2010</td>\n",
       "      <td>https://www.msha.gov/data-reports/fatality-reports/2010/fatality-10-june-12-2010</td>\n",
       "      <td>{'header': 'mai-2010-10\n",
       "  ', 'overview': 'thomas s. edwards, ironworker, age 46, died on june 12...</td>\n",
       "      <td></td>\n",
       "    </tr>\n",
       "    <tr>\n",
       "      <th>301</th>\n",
       "      <td>/data-reports/fatality-reports/2010/fatality-37-june-8-2010</td>\n",
       "      <td>https://www.msha.gov/data-reports/fatality-reports/2010/fatality-37-june-8-2010</td>\n",
       "      <td>{'header': 'cai-2010-37\n",
       "  ', 'overview': '\n",
       "on tuesday, june 8, 2010, at approximately 9:25 p.m.,...</td>\n",
       "      <td></td>\n",
       "    </tr>\n",
       "    <tr>\n",
       "      <th>403</th>\n",
       "      <td>/data-reports/fatality-reports/2007/fatality-1-january-2-2007</td>\n",
       "      <td>https://www.msha.gov/data-reports/fatality-reports/2007/fatality-1-january-2-2007</td>\n",
       "      <td>{'header': '\n",
       "  ', 'overview': 'on january 2, 2007, john l. dorton, instrumentation/electrical (i...</td>\n",
       "      <td></td>\n",
       "    </tr>\n",
       "  </tbody>\n",
       "</table>\n",
       "</div>"
      ],
      "text/plain": [
       "                                                         report-key  \\\n",
       "179  /data-reports/fatality-reports/2013/fatality-13-august-16-2013   \n",
       "263     /data-reports/fatality-reports/2011/fatality-8-june-27-2011   \n",
       "294     /data-reports/fatality-reports/2010/fatality-41-july-9-2010   \n",
       "299    /data-reports/fatality-reports/2010/fatality-38-june-16-2010   \n",
       "300    /data-reports/fatality-reports/2010/fatality-10-june-12-2010   \n",
       "301     /data-reports/fatality-reports/2010/fatality-37-june-8-2010   \n",
       "403   /data-reports/fatality-reports/2007/fatality-1-january-2-2007   \n",
       "\n",
       "                                                                             report-url  \\\n",
       "179  https://www.msha.gov/data-reports/fatality-reports/2013/fatality-13-august-16-2013   \n",
       "263     https://www.msha.gov/data-reports/fatality-reports/2011/fatality-8-june-27-2011   \n",
       "294     https://www.msha.gov/data-reports/fatality-reports/2010/fatality-41-july-9-2010   \n",
       "299    https://www.msha.gov/data-reports/fatality-reports/2010/fatality-38-june-16-2010   \n",
       "300    https://www.msha.gov/data-reports/fatality-reports/2010/fatality-10-june-12-2010   \n",
       "301     https://www.msha.gov/data-reports/fatality-reports/2010/fatality-37-june-8-2010   \n",
       "403   https://www.msha.gov/data-reports/fatality-reports/2007/fatality-1-january-2-2007   \n",
       "\n",
       "                                                                                            final-report  \\\n",
       "179  {'header': ' cai-2013-13\n",
       "united states\n",
       "department of labor\n",
       "mine safety and health administration...   \n",
       "263  {'header': ' cai-2011-08united states\n",
       "department of labor\n",
       "mine safety and health administration\n",
       "...   \n",
       "294  {'header': 'cai-2010-41\n",
       "  ', 'overview': 'at approximately 12:35 p.m., on friday, july 9, 2010, ...   \n",
       "299  {'header': 'cai-2010-38united states \n",
       "department of labor\n",
       "mine safety and health administration\n",
       "...   \n",
       "300  {'header': 'mai-2010-10\n",
       "  ', 'overview': 'thomas s. edwards, ironworker, age 46, died on june 12...   \n",
       "301  {'header': 'cai-2010-37\n",
       "  ', 'overview': '\n",
       "on tuesday, june 8, 2010, at approximately 9:25 p.m.,...   \n",
       "403  {'header': '\n",
       "  ', 'overview': 'on january 2, 2007, john l. dorton, instrumentation/electrical (i...   \n",
       "\n",
       "    f-p-desc-of-accident  \n",
       "179                       \n",
       "263                       \n",
       "294                       \n",
       "299                       \n",
       "300                       \n",
       "301                       \n",
       "403                       "
      ]
     },
     "execution_count": 10,
     "metadata": {},
     "output_type": "execute_result"
    }
   ],
   "source": [
    "df[df['f-p-desc-of-accident'] == '']"
   ]
  },
  {
   "cell_type": "code",
   "execution_count": 19,
   "metadata": {},
   "outputs": [
    {
     "data": {
      "text/plain": [
       "397"
      ]
     },
     "execution_count": 19,
     "metadata": {},
     "output_type": "execute_result"
    }
   ],
   "source": [
    "np.sum(df['f-p-desc-of-accident'] != '')"
   ]
  },
  {
   "cell_type": "code",
   "execution_count": 91,
   "metadata": {},
   "outputs": [
    {
     "name": "stdout",
     "output_type": "stream",
     "text": [
      "8 Does not have Description of Accident\n",
      "19 Does not have Description of Accident\n",
      "21 Does not have Description of Accident\n",
      "24 Does not have Description of Accident\n",
      "44 Does not have Description of Accident\n",
      "45 Does not have Description of Accident\n",
      "59 Does not have Description of Accident\n",
      "60 Does not have Description of Accident\n",
      "63 Does not have Description of Accident\n",
      "68 Does not have Description of Accident\n",
      "92 Does not have Description of Accident\n",
      "94 Does not have Description of Accident\n"
     ]
    }
   ],
   "source": [
    "df['f-p-desc-of-accident'] = ''\n",
    "\n",
    "for item in range(df.shape[0]-1):\n",
    "    keys = [x.lower() for x in df.loc[item, 'final-report'].keys()]\n",
    "    \n",
    "    if 'DESCRIPTION OF ACCIDENT'.lower() in keys:\n",
    "        df.loc[item,'f-p-desc-of-accident'] = df.loc[item,'final-report']['DESCRIPTION OF ACCIDENT'].lower()\n",
    "    elif 'DESCRIPTION OF THE ACCIDENT'.lower() in keys:\n",
    "        df.loc[item,'f-p-desc-of-accident'] = df.loc[item,'final-report']['DESCRIPTION OF THE ACCIDENT'].lower()\n",
    "    else:\n",
    "        print(str(item) + \" Does not have Description of Accident\")"
   ]
  },
  {
   "cell_type": "code",
   "execution_count": null,
   "metadata": {},
   "outputs": [],
   "source": []
  }
 ],
 "metadata": {
  "kernelspec": {
   "display_name": "Python (text_info)",
   "language": "python",
   "name": "text_info"
  },
  "language_info": {
   "codemirror_mode": {
    "name": "ipython",
    "version": 3
   },
   "file_extension": ".py",
   "mimetype": "text/x-python",
   "name": "python",
   "nbconvert_exporter": "python",
   "pygments_lexer": "ipython3",
   "version": "3.6.8"
  }
 },
 "nbformat": 4,
 "nbformat_minor": 2
}
