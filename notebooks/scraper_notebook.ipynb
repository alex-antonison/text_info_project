{
 "cells": [
  {
   "cell_type": "code",
   "execution_count": 2,
   "metadata": {},
   "outputs": [],
   "source": [
    "# some_file.py\n",
    "import sys\n",
    "# insert at 1, 0 is the script path (or '' in REPL)\n",
    "sys.path.insert(1, '../code/')\n",
    "\n",
    "from scraper import *"
   ]
  },
  {
   "cell_type": "code",
   "execution_count": 4,
   "metadata": {},
   "outputs": [],
   "source": [
    "scraper = Scraper(\"../chromedriver/chromedriver\", get_all_flag=False)"
   ]
  },
  {
   "cell_type": "code",
   "execution_count": 53,
   "metadata": {},
   "outputs": [],
   "source": [
    "scraper.soup = scraper.get_js_soup(\"https://www.msha.gov/data-reports/fatality-reports/2016/fatality-9-december-02-2016\")\n",
    "\n",
    "\n",
    "\n"
   ]
  },
  {
   "cell_type": "code",
   "execution_count": 54,
   "metadata": {},
   "outputs": [
    {
     "data": {
      "text/plain": [
       "'/data-reports/fatality-reports/2016/fatality-9-december-02-2016/final-report'"
      ]
     },
     "execution_count": 54,
     "metadata": {},
     "output_type": "execute_result"
    }
   ],
   "source": [
    "scraper.soup.select(\"a[href*=preliminary-report]\")\n",
    "\n",
    "# soup.find_all(\"a\", href=re.compile(\"preliminary-report\"))\n",
    "\n",
    "\n",
    "import re\n",
    "\n",
    "scraper.soup.find(\"a\", href=re.compile(\"final-report\"))['href']"
   ]
  },
  {
   "cell_type": "code",
   "execution_count": 30,
   "metadata": {},
   "outputs": [
    {
     "data": {
      "text/plain": [
       "<div class=\"views-row views-row-1 views-row-odd views-row-first views-row-last preliminary-report\">\n",
       "<div class=\"views-field views-field-body\"> <div class=\"field-content\"><p>This posting serves to provide a public notice to employees of the mine, employees of the mining company(s), employees of independent contractors with any connection to the mine, persons with any connection to the mine, and any person with information regarding the cause or contributing factors of this accident. Please provide any information to: <br/>O’neal Robertson, Lead Investigator:  <br/>Phone: 1-214-767-8401</p>\n",
       "</div> </div> </div>"
      ]
     },
     "execution_count": 30,
     "metadata": {},
     "output_type": "execute_result"
    }
   ],
   "source": [
    "temp = scraper.soup.find('div', {'class': 'views-row views-row-1 views-row-odd views-row-first views-row-last preliminary-report'})\n",
    "temp\n",
    "# temp.find('a')['href']\n",
    "\n"
   ]
  },
  {
   "cell_type": "code",
   "execution_count": 26,
   "metadata": {},
   "outputs": [],
   "source": [
    "temp = scraper.soup.find('div', {'class', 'field field-name-body field-type-text-with-summary field-label-hidden'})\n",
    "text = temp.find('div', {'property': 'content:encoded'})"
   ]
  },
  {
   "cell_type": "code",
   "execution_count": 27,
   "metadata": {},
   "outputs": [],
   "source": [
    "final_report = {}\n",
    "cur_header = 'HEADER'\n",
    "current_section_text = ''\n",
    "for item in text.contents:\n",
    "    try:\n",
    "        current_section_text.join(item.text)\n",
    "        if str(item).find('h2') == -1:\n",
    "            current_section_text = current_section_text + item.text\n",
    "        if str(item).find('h2') != -1:\n",
    "            final_report.update({cur_header: current_section_text})\n",
    "            current_section_text = ''\n",
    "            cur_header = item.text\n",
    "    except:\n",
    "        continue"
   ]
  },
  {
   "cell_type": "code",
   "execution_count": 28,
   "metadata": {},
   "outputs": [
    {
     "data": {
      "text/plain": [
       "dict_keys(['HEADER', 'OVERVIEW', 'GENERAL INFORMATION', 'DESCRIPTION OF ACCIDENT', 'INVESTIGATION OF ACCIDENT', 'DISCUSSION', 'ROOT CAUSE ANALYSIS', 'CONCLUSION', 'ENFORCEMENT ACTIONS'])"
      ]
     },
     "execution_count": 28,
     "metadata": {},
     "output_type": "execute_result"
    }
   ],
   "source": [
    "final_report.keys()"
   ]
  }
 ],
 "metadata": {
  "kernelspec": {
   "display_name": "Python (text_info)",
   "language": "python",
   "name": "text_info"
  },
  "language_info": {
   "codemirror_mode": {
    "name": "ipython",
    "version": 3
   },
   "file_extension": ".py",
   "mimetype": "text/x-python",
   "name": "python",
   "nbconvert_exporter": "python",
   "pygments_lexer": "ipython3",
   "version": "3.6.8"
  }
 },
 "nbformat": 4,
 "nbformat_minor": 2
}
