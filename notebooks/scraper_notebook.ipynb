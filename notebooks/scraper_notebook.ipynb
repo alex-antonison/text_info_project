{
 "cells": [
  {
   "cell_type": "code",
   "execution_count": 2,
   "metadata": {},
   "outputs": [],
   "source": [
    "# some_file.py\n",
    "import sys\n",
    "# insert at 1, 0 is the script path (or '' in REPL)\n",
    "sys.path.insert(1, '../code/')\n",
    "\n",
    "from scraper import *"
   ]
  },
  {
   "cell_type": "code",
   "execution_count": 4,
   "metadata": {},
   "outputs": [
    {
     "name": "stdout",
     "output_type": "stream",
     "text": [
      "Getting report pages...\n"
     ]
    },
    {
     "ename": "AttributeError",
     "evalue": "'Scraper' object has no attribute 'valid_report'",
     "output_type": "error",
     "traceback": [
      "\u001b[0;31m---------------------------------------------------------------------------\u001b[0m",
      "\u001b[0;31mAttributeError\u001b[0m                            Traceback (most recent call last)",
      "\u001b[0;32m<ipython-input-4-deec6bba3f20>\u001b[0m in \u001b[0;36m<module>\u001b[0;34m\u001b[0m\n\u001b[1;32m      2\u001b[0m \u001b[0msoup\u001b[0m \u001b[0;34m=\u001b[0m \u001b[0mscraper\u001b[0m\u001b[0;34m.\u001b[0m\u001b[0mget_js_soup\u001b[0m\u001b[0;34m(\u001b[0m\u001b[0;34m\"https://www.msha.gov/data-reports/fatality-reports/search\"\u001b[0m\u001b[0;34m)\u001b[0m\u001b[0;34m\u001b[0m\u001b[0;34m\u001b[0m\u001b[0m\n\u001b[1;32m      3\u001b[0m \u001b[0mscraper\u001b[0m\u001b[0;34m.\u001b[0m\u001b[0mget_report_pages\u001b[0m\u001b[0;34m(\u001b[0m\u001b[0;34m)\u001b[0m\u001b[0;34m\u001b[0m\u001b[0;34m\u001b[0m\u001b[0m\n\u001b[0;32m----> 4\u001b[0;31m \u001b[0mscraper\u001b[0m\u001b[0;34m.\u001b[0m\u001b[0mvalid_report\u001b[0m\u001b[0;34m[\u001b[0m\u001b[0;36m0\u001b[0m\u001b[0;34m]\u001b[0m\u001b[0;34m\u001b[0m\u001b[0;34m\u001b[0m\u001b[0m\n\u001b[0m",
      "\u001b[0;31mAttributeError\u001b[0m: 'Scraper' object has no attribute 'valid_report'"
     ]
    }
   ],
   "source": [
    "scraper = Scraper(\"../chromedriver/chromedriver\", get_all_flag=False)\n",
    "soup = scraper.get_js_soup(\"https://www.msha.gov/data-reports/fatality-reports/search\")\n",
    "scraper.get_report_pages()\n",
    "scraper.valid_report[0]"
   ]
  },
  {
   "cell_type": "code",
   "execution_count": 39,
   "metadata": {},
   "outputs": [],
   "source": [
    "scraper.soup = scraper.get_js_soup(\"https://www.msha.gov/data-reports/fatality-reports/2019/november-16-2019-fatality/final-report\")\n",
    "\n",
    "\n",
    "\n"
   ]
  },
  {
   "cell_type": "code",
   "execution_count": 47,
   "metadata": {},
   "outputs": [
    {
     "data": {
      "text/plain": [
       "56"
      ]
     },
     "execution_count": 47,
     "metadata": {},
     "output_type": "execute_result"
    }
   ],
   "source": [
    "soup = scraper.soup.find('div', {'class', 'field field-name-body field-type-text-with-summary field-label-hidden'})\n",
    "soup = soup.find('div', {'property': 'content:encoded'})\n",
    "soup.text.find('Please check the URL for proper spelling and hyphenation')\n",
    "# soup.find('h2').text\n",
    "\n",
    "# final_report = {}\n",
    "# cur_header = 'HEADER'\n",
    "# current_section_text = ''\n",
    "# for item in soup.contents:\n",
    "#     try:\n",
    "#         if str(item).find('h2') == -1:\n",
    "#             current_section_text = current_section_text + item.text\n",
    "#         if str(item).find('h2') != -1:\n",
    "#             final_report.update({cur_header: current_section_text})\n",
    "#             current_section_text = ''\n",
    "#             cur_header = item.text\n",
    "#     except:\n",
    "#         continue\n",
    "# final_report"
   ]
  },
  {
   "cell_type": "code",
   "execution_count": 26,
   "metadata": {},
   "outputs": [],
   "source": [
    "temp = scraper.soup.find('div', {'class', 'field field-name-body field-type-text-with-summary field-label-hidden'})\n",
    "text = temp.find('div', {'property': 'content:encoded'})"
   ]
  },
  {
   "cell_type": "code",
   "execution_count": 27,
   "metadata": {},
   "outputs": [],
   "source": [
    "final_report = {}\n",
    "cur_header = 'HEADER'\n",
    "current_section_text = ''\n",
    "for item in text.contents:\n",
    "    try:\n",
    "        current_section_text.join(item.text)\n",
    "        if str(item).find('h2') == -1:\n",
    "            current_section_text = current_section_text + item.text\n",
    "        if str(item).find('h2') != -1:\n",
    "            final_report.update({cur_header: current_section_text})\n",
    "            current_section_text = ''\n",
    "            cur_header = item.text\n",
    "    except:\n",
    "        continue"
   ]
  },
  {
   "cell_type": "code",
   "execution_count": 28,
   "metadata": {},
   "outputs": [
    {
     "data": {
      "text/plain": [
       "dict_keys(['HEADER', 'OVERVIEW', 'GENERAL INFORMATION', 'DESCRIPTION OF ACCIDENT', 'INVESTIGATION OF ACCIDENT', 'DISCUSSION', 'ROOT CAUSE ANALYSIS', 'CONCLUSION', 'ENFORCEMENT ACTIONS'])"
      ]
     },
     "execution_count": 28,
     "metadata": {},
     "output_type": "execute_result"
    }
   ],
   "source": [
    "final_report.keys()"
   ]
  }
 ],
 "metadata": {
  "kernelspec": {
   "display_name": "Python (text_info)",
   "language": "python",
   "name": "text_info"
  }
 },
 "nbformat": 4,
 "nbformat_minor": 2
}
