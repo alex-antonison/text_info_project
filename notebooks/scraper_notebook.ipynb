{
 "cells": [
  {
   "cell_type": "code",
   "execution_count": 4,
   "metadata": {},
   "outputs": [],
   "source": [
    "# some_file.py\n",
    "import sys\n",
    "# insert at 1, 0 is the script path (or '' in REPL)\n",
    "sys.path.insert(1, '../code/')\n",
    "\n",
    "import utilities"
   ]
  },
  {
   "cell_type": "code",
   "execution_count": 20,
   "metadata": {},
   "outputs": [
    {
     "name": "stdout",
     "output_type": "stream",
     "text": [
      "Setting up web driver\n",
      "Establishing chromedriver 76\n"
     ]
    }
   ],
   "source": [
    "print(\"Setting up web driver\")\n",
    "browser = utilities.setup_web_driver()\n",
    "\n",
    "base_url = \"https://www.msha.gov/\"\n",
    "\n",
    "reports_url = \"https://www.msha.gov/data-reports/fatality-reports/search\"\n",
    "\n",
    "soup = utilities.get_js_soup(reports_url, browser)"
   ]
  },
  {
   "cell_type": "code",
   "execution_count": 19,
   "metadata": {},
   "outputs": [
    {
     "data": {
      "text/plain": [
       "<li class=\"views-row views-row-1 views-row-odd views-row-first fatality category-191\">\n",
       "<div class=\"views-field views-field-title\"> <span class=\"field-content\"><a href=\"/data-reports/fatality-reports/2019/september-17-2019-fatality\">September 17,  2019 Fatality </a></span> </div>\n",
       "<div class=\"views-field views-field-field-accident-classification\"> <span class=\"views-label views-label-field-accident-classification\">Accident Classification: </span> <span class=\"field-content\">Electrical</span> </div>\n",
       "<div class=\"views-field views-field-field-location-at-fatality\"> <span class=\"views-label views-label-field-location-at-fatality fa fa-map-marker\">Location: </span> <span class=\"field-content\">American Eagle Mine, Kanawha County,  WV</span> </div>\n",
       "<div class=\"views-field views-field-field-mine-controller-1\"> <span class=\"views-label views-label-field-mine-controller-1\">Mine Controller: </span> <span class=\"field-content\">Blackhawk Mining LLC</span> </div>\n",
       "<div class=\"views-field views-field-field-mine-type-1\"> <span class=\"views-label views-label-field-mine-type-1\">Mine Type: </span> <span class=\"field-content\">Underground</span> </div>\n",
       "<div class=\"views-field views-field-field-primary-sic-1\"> <span class=\"views-label views-label-field-primary-sic-1 fa fa-tag\">Mined Material: </span> <span class=\"field-content\">Coal (Bituminous)</span> </div>\n",
       "<div class=\"views-field views-field-nothing fatality-related-links\"> <div class=\"preliminary-report\"><a href=\"/data-reports/fatality-reports/2019/september-17-2019-fatality/preliminary-report\">Preliminary Report</a></div>\n",
       "<div class=\"fatalgram\"><a href=\"/data-reports/fatality-reports/2019/september-17-2019-fatality/fatality-alert\">Fatality Alert</a></div>\n",
       "<div class=\"final-report\"></div>\n",
       "<div class=\"public-notice\"><a class=\"colorbox-inline init-colorbox-inline-processed cboxElement\" href=\"/data-reports/fatality-reports/2019/september-17-2019-fatality?width=600px&amp;height=400px&amp;inline=true#colorbox-inline-2121196981\" rel=\"\">Public Notice</a><div style=\"display: none;\"><div id=\"colorbox-inline-2121196981\"><p>This posting serves to provide a public notice to employees of the mine, employees of the mining company(s), employees of independent contractors with any connection to the mine, persons with any connection to the mine, and any person with information regarding the cause or contributing factors of this accident. Please provide any information to: <br/><strong>Larry Hedrick</strong> <strong>, </strong>Lead Investigator:  <br/><strong>Phone</strong>: 304-877-3900 ext. 212</p>\n",
       "</div></div></div>\n",
       "</div></li>"
      ]
     },
     "execution_count": 19,
     "metadata": {},
     "output_type": "execute_result"
    }
   ],
   "source": [
    "fatalities_list = soup.find('ul', {'class': 'fatalities-list'}).find_all('li')\n",
    "fatalities_list[0]"
   ]
  },
  {
   "cell_type": "code",
   "execution_count": null,
   "metadata": {},
   "outputs": [],
   "source": [
    "{}"
   ]
  }
 ],
 "metadata": {
  "kernelspec": {
   "display_name": "Python (text_info)",
   "language": "python",
   "name": "text_info"
  },
  "language_info": {
   "codemirror_mode": {
    "name": "ipython",
    "version": 3
   },
   "file_extension": ".py",
   "mimetype": "text/x-python",
   "name": "python",
   "nbconvert_exporter": "python",
   "pygments_lexer": "ipython3",
   "version": "3.7.4"
  }
 },
 "nbformat": 4,
 "nbformat_minor": 2
}
