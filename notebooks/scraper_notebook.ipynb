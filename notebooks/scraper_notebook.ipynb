{
 "cells": [
  {
   "cell_type": "code",
   "execution_count": 26,
   "metadata": {},
   "outputs": [],
   "source": [
    "# some_file.py\n",
    "import sys\n",
    "# insert at 1, 0 is the script path (or '' in REPL)\n",
    "sys.path.insert(1, '../code/')\n",
    "\n",
    "import utilities\n",
    "import pdfminer\n",
    "import io"
   ]
  },
  {
   "cell_type": "code",
   "execution_count": 28,
   "metadata": {},
   "outputs": [
    {
     "name": "stdout",
     "output_type": "stream",
     "text": [
      "            U.S. Department of Labor Mine Safety and Health AdministrationPreliminary Report of AccidentPR001 09/25/2019 1. Accident Type F - Fatal Injury 2. Accident Classification 01 - Electrical 3. Date/Time of Accident 09/17/2019 12:30 AM 4. Date/Time of Death 09/17/2019 4:30 AM 5. Fatal Case No 20 6. Mine Information a) Mining Company Name: Panther Creek Mining LLCb) Mine Name: American Eagle Minec) Parent of Mining Company: Blackhawk Mining LLC 7. Mine Location Information a) City Dawes b) County Kanawha c) State WV 8. Mine ID Number 46-05437 9. Union No 10. Primary Mineral Mined 11. Number of Employees a) Total b) Underground c) Open Pit/Quarry 290 279 0 d) Mill/Prep Plant e) Other 0 11 12. Contractor Name 13. Contractor Union 14. Contractor ID Number 15. Contractor Address a) City b) County c) State d) Zip Code 16. Number of Contractor Employees a) Total b) Underground c) Open Pit/Quarry d) Mill/Prep Plant e) Other 17. Number of Persons in Mine at Time of Accident a) Mine Employees b) Contractor Employees 82 18. Number of Persons Unaccounted for a) Mine Employees b) Contractor Employees 19. Accident Location 01 - Underground 20. Mining Height 5 Feet 6 Inches 21. Nonfatal Injuries 22. Fatal Injuries 1 23. Victims Information Steven V Keeney a) First Name a) MI a) Last Name b) Age c) Regular Job Title d) Activity at Time of Accident Steven V Keeney 40 Electrician Troubleshooting Employee Mine Employee 24. Mining Experience a) Total Experience b) Experience at the Mine c) Experience at the Activity at the Time of the Accident 9 Years 8 Weeks 0 Days 8 Years 29 Weeks 0 Days 8 Years 29 Weeks 0 Days d) Experience with Contractor 0 Years 0 Weeks 0 Days 25. Autopsy Performed If Yes, Location 26. Mine Telephone No. (681) 221-8100 x 8846 27. Description of Accident (include equipment involved, the exact location in the mine, and status and recovery operations) An electrician was electrocuted while troubleshooting the electrical circuit for the scrubber on a continuous mining machine. He was working on the Number 1 Section, 007-0 MMU when the accident occurred. The information provided in this notice is based on preliminary data ONLY and does not represent final determination regarding the nature of the incident or conclusions regarding the cause of the accident. 28. Equipment Manufacturer Joy Machinery Co. (Joy Manufacturing Co) 29. Model 30. District C0400 - Mt. Hope, WV 32. Field Office C0402 - Mt. Carbon WV Field Office 33. Event Number 6314077 34. Accident Investigator First Name Larry MI B Last Name Hedrick 35. MSHA Person Notified First Name Robert MI Last Name Hatfield Date/Time Notified 09/17/2019 1:49 AM 36. Type of Report Initial 37. Name of Preparer Full Name Pamela T Wilson Date Prepared 09/17/2019 38. Reason for Amendment MSHA Form 7000-13, March 2019 (revised) \f",
      "\n"
     ]
    }
   ],
   "source": [
    "from pdfminer.layout import LAParams, LTTextBox\n",
    "from pdfminer.pdfpage import PDFPage\n",
    "from pdfminer.pdfinterp import PDFResourceManager\n",
    "from pdfminer.pdfinterp import PDFPageInterpreter\n",
    "from pdfminer.converter import PDFPageAggregator\n",
    "from pdfminer.converter import TextConverter\n",
    "\n",
    "resource_manager = PDFResourceManager()\n",
    "fake_file_handle = io.StringIO()\n",
    "converter = TextConverter(resource_manager, fake_file_handle)\n",
    "page_interpreter = PDFPageInterpreter(resource_manager, converter)\n",
    "\n",
    "with open('../pdf_files/September 17, 2019 Fatality- Preliminary Report.pdf', 'rb') as fh:\n",
    "\n",
    "    for page in PDFPage.get_pages(fh,\n",
    "                                  caching=True,\n",
    "                                  check_extractable=True):\n",
    "        page_interpreter.process_page(page)\n",
    "\n",
    "    text = fake_file_handle.getvalue()\n",
    "\n",
    "# close open handles\n",
    "converter.close()\n",
    "fake_file_handle.close()\n",
    "\n",
    "print(text)"
   ]
  },
  {
   "cell_type": "code",
   "execution_count": 20,
   "metadata": {},
   "outputs": [
    {
     "name": "stdout",
     "output_type": "stream",
     "text": [
      "Setting up web driver\n",
      "Establishing chromedriver 76\n"
     ]
    }
   ],
   "source": [
    "print(\"Setting up web driver\")\n",
    "browser = utilities.setup_web_driver()\n",
    "\n",
    "base_url = \"https://www.msha.gov/\"\n",
    "\n",
    "reports_url = \"https://www.msha.gov/data-reports/fatality-reports/search\"\n",
    "\n",
    "soup = utilities.get_js_soup(reports_url, browser)"
   ]
  },
  {
   "cell_type": "code",
   "execution_count": 19,
   "metadata": {},
   "outputs": [
    {
     "data": {
      "text/plain": [
       "<li class=\"views-row views-row-1 views-row-odd views-row-first fatality category-191\">\n",
       "<div class=\"views-field views-field-title\"> <span class=\"field-content\"><a href=\"/data-reports/fatality-reports/2019/september-17-2019-fatality\">September 17,  2019 Fatality </a></span> </div>\n",
       "<div class=\"views-field views-field-field-accident-classification\"> <span class=\"views-label views-label-field-accident-classification\">Accident Classification: </span> <span class=\"field-content\">Electrical</span> </div>\n",
       "<div class=\"views-field views-field-field-location-at-fatality\"> <span class=\"views-label views-label-field-location-at-fatality fa fa-map-marker\">Location: </span> <span class=\"field-content\">American Eagle Mine, Kanawha County,  WV</span> </div>\n",
       "<div class=\"views-field views-field-field-mine-controller-1\"> <span class=\"views-label views-label-field-mine-controller-1\">Mine Controller: </span> <span class=\"field-content\">Blackhawk Mining LLC</span> </div>\n",
       "<div class=\"views-field views-field-field-mine-type-1\"> <span class=\"views-label views-label-field-mine-type-1\">Mine Type: </span> <span class=\"field-content\">Underground</span> </div>\n",
       "<div class=\"views-field views-field-field-primary-sic-1\"> <span class=\"views-label views-label-field-primary-sic-1 fa fa-tag\">Mined Material: </span> <span class=\"field-content\">Coal (Bituminous)</span> </div>\n",
       "<div class=\"views-field views-field-nothing fatality-related-links\"> <div class=\"preliminary-report\"><a href=\"/data-reports/fatality-reports/2019/september-17-2019-fatality/preliminary-report\">Preliminary Report</a></div>\n",
       "<div class=\"fatalgram\"><a href=\"/data-reports/fatality-reports/2019/september-17-2019-fatality/fatality-alert\">Fatality Alert</a></div>\n",
       "<div class=\"final-report\"></div>\n",
       "<div class=\"public-notice\"><a class=\"colorbox-inline init-colorbox-inline-processed cboxElement\" href=\"/data-reports/fatality-reports/2019/september-17-2019-fatality?width=600px&amp;height=400px&amp;inline=true#colorbox-inline-2121196981\" rel=\"\">Public Notice</a><div style=\"display: none;\"><div id=\"colorbox-inline-2121196981\"><p>This posting serves to provide a public notice to employees of the mine, employees of the mining company(s), employees of independent contractors with any connection to the mine, persons with any connection to the mine, and any person with information regarding the cause or contributing factors of this accident. Please provide any information to: <br/><strong>Larry Hedrick</strong> <strong>, </strong>Lead Investigator:  <br/><strong>Phone</strong>: 304-877-3900 ext. 212</p>\n",
       "</div></div></div>\n",
       "</div></li>"
      ]
     },
     "execution_count": 19,
     "metadata": {},
     "output_type": "execute_result"
    }
   ],
   "source": [
    "fatalities_list = soup.find('ul', {'class': 'fatalities-list'}).find_all('li')\n",
    "fatalities_list[0]"
   ]
  },
  {
   "cell_type": "code",
   "execution_count": null,
   "metadata": {},
   "outputs": [],
   "source": [
    "{}"
   ]
  }
 ],
 "metadata": {
  "kernelspec": {
   "display_name": "Python (text_info)",
   "language": "python",
   "name": "text_info"
  },
  "language_info": {
   "codemirror_mode": {
    "name": "ipython",
    "version": 3
   },
   "file_extension": ".py",
   "mimetype": "text/x-python",
   "name": "python",
   "nbconvert_exporter": "python",
   "pygments_lexer": "ipython3",
   "version": "3.7.4"
  }
 },
 "nbformat": 4,
 "nbformat_minor": 2
}
