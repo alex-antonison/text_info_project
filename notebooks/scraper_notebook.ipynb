{
 "cells": [
  {
   "cell_type": "code",
   "execution_count": 1,
   "metadata": {},
   "outputs": [],
   "source": [
    "# some_file.py\n",
    "import sys\n",
    "# insert at 1, 0 is the script path (or '' in REPL)\n",
    "sys.path.insert(1, '../code/')\n",
    "\n",
    "from utilities import *\n",
    "from scraper import *"
   ]
  },
  {
   "cell_type": "code",
   "execution_count": 2,
   "metadata": {},
   "outputs": [
    {
     "name": "stdout",
     "output_type": "stream",
     "text": [
      "Establishing chromedriver\n",
      "/data-reports/fatality-reports/2019/november-16-2019-fatality\n"
     ]
    },
    {
     "data": {
      "text/plain": [
       "'/data-reports/fatality-reports/2019/november-16-2019-fatality'"
      ]
     },
     "execution_count": 2,
     "metadata": {},
     "output_type": "execute_result"
    }
   ],
   "source": [
    "scraper = Scraper(\"../chromedriver/chromedriver\")\n",
    "soup = scraper.get_js_soup(\"https://www.msha.gov/data-reports/fatality-reports/search\")\n",
    "scraper.get_report_pages()\n",
    "scraper.valid_report[0]"
   ]
  },
  {
   "cell_type": "code",
   "execution_count": 85,
   "metadata": {},
   "outputs": [
    {
     "ename": "AttributeError",
     "evalue": "'NoneType' object has no attribute 'find'",
     "output_type": "error",
     "traceback": [
      "\u001b[0;31m---------------------------------------------------------------------------\u001b[0m",
      "\u001b[0;31mAttributeError\u001b[0m                            Traceback (most recent call last)",
      "\u001b[0;32m<ipython-input-85-2c2b35e607ea>\u001b[0m in \u001b[0;36m<module>\u001b[0;34m\u001b[0m\n\u001b[1;32m      1\u001b[0m \u001b[0mscraper\u001b[0m\u001b[0;34m.\u001b[0m\u001b[0msoup\u001b[0m \u001b[0;34m=\u001b[0m \u001b[0mscraper\u001b[0m\u001b[0;34m.\u001b[0m\u001b[0mget_js_soup\u001b[0m\u001b[0;34m(\u001b[0m\u001b[0;34m\"https://www.msha.gov/data-reports/fatality-reports/2019/november-16-2019-fatality/preliminary-report\"\u001b[0m\u001b[0;34m)\u001b[0m\u001b[0;34m\u001b[0m\u001b[0;34m\u001b[0m\u001b[0m\n\u001b[1;32m      2\u001b[0m \u001b[0mtemp\u001b[0m \u001b[0;34m=\u001b[0m \u001b[0mscraper\u001b[0m\u001b[0;34m.\u001b[0m\u001b[0msoup\u001b[0m\u001b[0;34m.\u001b[0m\u001b[0mfind\u001b[0m\u001b[0;34m(\u001b[0m\u001b[0;34m'div'\u001b[0m\u001b[0;34m,\u001b[0m \u001b[0;34m{\u001b[0m\u001b[0;34m'class'\u001b[0m\u001b[0;34m:\u001b[0m \u001b[0;34m'field field-name-body field-type-text-with-summary field-label-above'\u001b[0m\u001b[0;34m}\u001b[0m\u001b[0;34m)\u001b[0m\u001b[0;34m\u001b[0m\u001b[0;34m\u001b[0m\u001b[0m\n\u001b[0;32m----> 3\u001b[0;31m \u001b[0mtemp\u001b[0m\u001b[0;34m.\u001b[0m\u001b[0mfind\u001b[0m\u001b[0;34m(\u001b[0m\u001b[0;34m'div'\u001b[0m\u001b[0;34m,\u001b[0m \u001b[0;34m{\u001b[0m\u001b[0;34m'class'\u001b[0m\u001b[0;34m:\u001b[0m \u001b[0;34m'field-item even'\u001b[0m\u001b[0;34m}\u001b[0m\u001b[0;34m)\u001b[0m\u001b[0;34m.\u001b[0m\u001b[0mtext\u001b[0m\u001b[0;34m\u001b[0m\u001b[0;34m\u001b[0m\u001b[0m\n\u001b[0m",
      "\u001b[0;31mAttributeError\u001b[0m: 'NoneType' object has no attribute 'find'"
     ]
    }
   ],
   "source": [
    "scraper.soup = scraper.get_js_soup(\"https://www.msha.gov/data-reports/fatality-reports/2019/november-16-2019-fatality/preliminary-report\")\n",
    "temp = scraper.soup.find('div', {'class': 'field field-name-body field-type-text-with-summary field-label-above'})\n",
    "temp.find('div', {'class': 'field-item even'}).text"
   ]
  },
  {
   "cell_type": "code",
   "execution_count": 76,
   "metadata": {},
   "outputs": [],
   "source": [
    "# scraper.soup = scraper.get_js_soup(\"https://www.msha.gov/data-reports/fatality-reports/2019/may-13-2019-fatality-0\")\n",
    "# scraper.soup = scraper.get_js_soup(\"https://www.msha.gov/data-reports/fatality-reports/2014/fatality-29-november-26-2014\")\n",
    "scraper.soup = scraper.get_js_soup(\"https://www.msha.gov/data-reports/fatality-reports/2019/september-17-2019-fatality\")"
   ]
  },
  {
   "cell_type": "code",
   "execution_count": 80,
   "metadata": {},
   "outputs": [
    {
     "data": {
      "text/plain": [
       "'This posting serves to provide a public notice to employees of the mine, employees of the mining company(s), employees of independent contractors with any connection to the mine, persons with any connection to the mine, and any person with information regarding the cause or contributing factors of this accident. Please provide any information to Lead Investigator Franklin D. Thomas, 304-225-6833.\\n'"
      ]
     },
     "execution_count": 80,
     "metadata": {},
     "output_type": "execute_result"
    }
   ],
   "source": [
    "temp = scraper.soup.find('section', {'class': 'block block-views block-arep-fatal-block-4 block-views-arep-fatal-block-4 even'})\n",
    "temp.find('div', {'class': 'field-content'}).text\n",
    "\n",
    "# if temp != None:\n",
    "#     print(\"Recessed\")\n",
    "# else:\n",
    "#     print(\"Not Recessed\")"
   ]
  },
  {
   "cell_type": "code",
   "execution_count": 74,
   "metadata": {},
   "outputs": [],
   "source": [
    "import json\n",
    "\n",
    "dict = {'Python' : '.py', 'C++' : '.cpp', 'Java' : '.java'}\n",
    "\n",
    "json = json.dumps(dict)\n",
    "f = open(\"dict.json\",\"w\")\n",
    "f.write(json)\n",
    "f.close()"
   ]
  }
 ],
 "metadata": {
  "kernelspec": {
   "display_name": "Python (text_info)",
   "language": "python",
   "name": "text_info"
  },
  "language_info": {
   "codemirror_mode": {
    "name": "ipython",
    "version": 3
   },
   "file_extension": ".py",
   "mimetype": "text/x-python",
   "name": "python",
   "nbconvert_exporter": "python",
   "pygments_lexer": "ipython3",
   "version": "3.6.8"
  }
 },
 "nbformat": 4,
 "nbformat_minor": 2
}
