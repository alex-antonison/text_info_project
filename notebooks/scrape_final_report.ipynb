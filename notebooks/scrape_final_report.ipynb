{
 "cells": [
  {
   "cell_type": "code",
   "execution_count": 6,
   "metadata": {},
   "outputs": [],
   "source": [
    "# some_file.py\n",
    "import sys\n",
    "# insert at 1, 0 is the script path (or '' in REPL)\n",
    "sys.path.insert(1, '../')\n",
    "\n",
    "from scraper import *"
   ]
  },
  {
   "cell_type": "code",
   "execution_count": 7,
   "metadata": {},
   "outputs": [],
   "source": [
    "scraper = Scraper(\"../chromedriver/chromedriver\", get_all_flag=False)\n",
    "base_url = \"https://www.msha.gov\""
   ]
  },
  {
   "cell_type": "code",
   "execution_count": 137,
   "metadata": {},
   "outputs": [],
   "source": [
    "soup = scraper.get_js_soup(\"https://www.msha.gov/data-reports/fatality-reports/2018/fatality-16-november-11-2018/final-report\")\n"
   ]
  },
  {
   "cell_type": "code",
   "execution_count": 153,
   "metadata": {},
   "outputs": [],
   "source": [
    "section_of_interest = ['OVERVIEW', 'GENERAL INFORMATION', 'DESCRIPTION OF ACCIDENT',\n",
    "                               'DESCRIPTION OF THE ACCIDENT', 'INVESTIGATION OF THE ACCIDENT', \n",
    "                               'INVESTIGATION OF ACCIDENT', 'DISCUSSION', \n",
    "                               'TRAINING AND EXPERIENCE', 'ROOT CAUSE ANALYSIS', \n",
    "                               'CONCLUSION', 'ENFORCEMENT ACTIONS']\n",
    "section_of_interest = [x.lower() for x in section_of_interest]"
   ]
  },
  {
   "cell_type": "code",
   "execution_count": 140,
   "metadata": {},
   "outputs": [],
   "source": [
    "soup1 = soup.find('div', {'class': 'field field-name-body field-type-text-with-summary field-label-hidden'})\n",
    "soup2 = soup.find('div', {'property': 'content:encoded'})"
   ]
  },
  {
   "cell_type": "code",
   "execution_count": 141,
   "metadata": {},
   "outputs": [
    {
     "name": "stdout",
     "output_type": "stream",
     "text": [
      "OVERVIEW\n",
      "GENERAL INFORMATION\n",
      "DESCRIPTION OF THE ACCIDENT\n",
      "INVESTIGATION OF THE ACCIDENT\n",
      "DISCUSSION\n",
      "TRAINING AND EXPERIENCE\n",
      "ROOT CAUSE ANALYSIS\n",
      "CONCLUSION\n",
      "ENFORCEMENT ACTIONS\n"
     ]
    }
   ],
   "source": [
    "final_report = {}\n",
    "current_header = 'HEADER'\n",
    "current_section_text = ''\n",
    "\n",
    "for item in soup2.contents:\n",
    "    try:\n",
    "        if item.text.lower() not in section_of_interest:\n",
    "            current_section_text = current_section_text + item.text\n",
    "        if item.text.lower() in section_of_interest:\n",
    "            print(item.text)\n",
    "            final_report.update({current_header: current_section_text})\n",
    "            current_section_text = ''\n",
    "            current_header = item.text\n",
    "    except:\n",
    "        continue"
   ]
  },
  {
   "cell_type": "code",
   "execution_count": 142,
   "metadata": {},
   "outputs": [],
   "source": [
    "soup = scraper.get_js_soup(\"https://www.msha.gov/data-reports/fatality-reports/2018/fatality-16-november-11-2018/final-report\")\n"
   ]
  },
  {
   "cell_type": "code",
   "execution_count": 143,
   "metadata": {},
   "outputs": [],
   "source": [
    "soup1 = soup.find('div', {'class': 'field field-name-body field-type-text-with-summary field-label-hidden'})\n",
    "soup2 = soup.find('div', {'property': 'content:encoded'})"
   ]
  },
  {
   "cell_type": "code",
   "execution_count": 144,
   "metadata": {},
   "outputs": [],
   "source": [
    "# [soup2.find_all('p')"
   ]
  },
  {
   "cell_type": "code",
   "execution_count": 145,
   "metadata": {},
   "outputs": [
    {
     "name": "stdout",
     "output_type": "stream",
     "text": [
      "OVERVIEW\n",
      "GENERAL INFORMATION\n",
      "DESCRIPTION OF THE ACCIDENT\n",
      "INVESTIGATION OF THE ACCIDENT\n",
      "DISCUSSION\n",
      "TRAINING AND EXPERIENCE\n",
      "ROOT CAUSE ANALYSIS\n",
      "CONCLUSION\n",
      "ENFORCEMENT ACTIONS\n"
     ]
    }
   ],
   "source": [
    "final_report = {}\n",
    "current_header = 'HEADER'\n",
    "current_section_text = ''\n",
    "\n",
    "for item in soup2.find_all(['p', 'h2']):\n",
    "    try:\n",
    "        if item.text.lower() not in section_of_interest:\n",
    "            current_section_text = current_section_text + item.text\n",
    "        if item.text.lower() in section_of_interest:\n",
    "            print(item.text)\n",
    "            final_report.update({current_header: current_section_text})\n",
    "            current_section_text = ''\n",
    "            current_header = item.text\n",
    "    except:\n",
    "        continue"
   ]
  },
  {
   "cell_type": "code",
   "execution_count": 146,
   "metadata": {},
   "outputs": [],
   "source": [
    "soup = scraper.get_js_soup(\"https://www.msha.gov/data-reports/fatality-reports/2012/fatality-11-july-14-2012/final-report\")\n"
   ]
  },
  {
   "cell_type": "code",
   "execution_count": 147,
   "metadata": {},
   "outputs": [
    {
     "name": "stdout",
     "output_type": "stream",
     "text": [
      "Investigation of the Accident\n",
      "Discussion\n",
      "Root Cause Analysis\n",
      "Conclusion\n",
      "Enforcement Actions\n"
     ]
    }
   ],
   "source": [
    "soup1 = soup.find('div', {'class': 'field field-name-body field-type-text-with-summary field-label-hidden'})\n",
    "soup2 = soup.find('div', {'property': 'content:encoded'})\n",
    "\n",
    "final_report = {}\n",
    "current_header = 'HEADER'\n",
    "current_section_text = ''\n",
    "\n",
    "for item in soup2.contents:\n",
    "    try:\n",
    "        if item.text.lower() not in section_of_interest:\n",
    "            current_section_text = current_section_text + item.text\n",
    "        if item.text.lower() in section_of_interest:\n",
    "            print(item.text)\n",
    "            final_report.update({current_header: current_section_text})\n",
    "            current_section_text = ''\n",
    "            current_header = item.text\n",
    "    except:\n",
    "        continue"
   ]
  },
  {
   "cell_type": "code",
   "execution_count": 148,
   "metadata": {},
   "outputs": [],
   "source": [
    "soup = scraper.get_js_soup(\"https://www.msha.gov/data-reports/fatality-reports/2018/fatality-6-june-23-2018/final-report\")\n"
   ]
  },
  {
   "cell_type": "code",
   "execution_count": 154,
   "metadata": {},
   "outputs": [
    {
     "name": "stdout",
     "output_type": "stream",
     "text": [
      "overview\n",
      "general information\n",
      "description of accident\n",
      "investigation of accident\n",
      "discussion\n",
      "root cause analysis\n",
      "conclusion\n",
      "enforcement actions\n"
     ]
    }
   ],
   "source": [
    "soup1 = soup.find('div', {'class': 'field field-name-body field-type-text-with-summary field-label-hidden'})\n",
    "soup2 = soup.find('div', {'property': 'content:encoded'})\n",
    "\n",
    "final_report = {}\n",
    "current_header = 'HEADER'\n",
    "current_section_text = ''\n",
    "\n",
    "for item in soup2.find_all(['p', 'h2']):\n",
    "    try:\n",
    "        if item.text.lower() not in section_of_interest:\n",
    "            current_section_text = current_section_text + item.text.lower()\n",
    "        if item.text.lower() in section_of_interest:\n",
    "            print(item.text.lower())\n",
    "            final_report.update({current_header: current_section_text})\n",
    "            current_section_text = ''\n",
    "            current_header = item.text.lower()\n",
    "    except:\n",
    "        continue"
   ]
  },
  {
   "cell_type": "code",
   "execution_count": 156,
   "metadata": {},
   "outputs": [],
   "source": [
    "soup = scraper.get_js_soup(\"https://www.msha.gov/data-reports/fatality-reports/2010/fatality-2-january-26-2010/final-report\")"
   ]
  },
  {
   "cell_type": "code",
   "execution_count": 158,
   "metadata": {},
   "outputs": [
    {
     "name": "stdout",
     "output_type": "stream",
     "text": [
      "overview\n",
      "general information\n",
      "description of the accident\n",
      "investigation of the accident\n",
      "discussion\n",
      "root cause analysis\n",
      "conclusion\n",
      "enforcement actions\n"
     ]
    }
   ],
   "source": [
    "soup1 = soup.find('div', {'class': 'field field-name-body field-type-text-with-summary field-label-hidden'})\n",
    "soup2 = soup.find('div', {'property': 'content:encoded'})\n",
    "\n",
    "final_report = {}\n",
    "current_header = 'HEADER'\n",
    "current_section_text = ''\n",
    "\n",
    "for item in soup2.find_all(['p', 'h2','div']):\n",
    "    try:\n",
    "        if item.text.lower() not in section_of_interest:\n",
    "            current_section_text = current_section_text + item.text.lower()\n",
    "        if item.text.lower() in section_of_interest:\n",
    "            print(item.text.lower())\n",
    "            final_report.update({current_header: current_section_text})\n",
    "            current_section_text = ''\n",
    "            current_header = item.text.lower()\n",
    "    except:\n",
    "        continue"
   ]
  }
 ],
 "metadata": {
  "kernelspec": {
   "display_name": "Python (text_info)",
   "language": "python",
   "name": "text_info"
  },
  "language_info": {
   "codemirror_mode": {
    "name": "ipython",
    "version": 3
   },
   "file_extension": ".py",
   "mimetype": "text/x-python",
   "name": "python",
   "nbconvert_exporter": "python",
   "pygments_lexer": "ipython3",
   "version": "3.6.8"
  }
 },
 "nbformat": 4,
 "nbformat_minor": 2
}
