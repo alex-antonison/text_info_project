{
 "cells": [
  {
   "cell_type": "code",
   "execution_count": 5,
   "metadata": {},
   "outputs": [],
   "source": [
    "# packages to store and manipulate data\n",
    "import pandas as pd\n",
    "import numpy as np\n",
    "import os\n",
    "\n",
    "from os import path\n",
    "from wordcloud import WordCloud\n",
    "\n",
    "\n",
    "papers = pd.read_csv('../data/report_info.json')\n",
    "\n",
    "# papers = papers.drop(columns=[\n",
    "# 'report-url', 'accidnet-classification', 'location', 'mine-type', 'mine-controller', 'mined-mineral', 'incident-date', 'public-notice','preliminary-report','fatality-alert'], axis=1)\n",
    "# Print out the first rows of papers\n",
    "# papers.head()\n",
    "\n",
    "\n",
    "# papers = papers[~papers['final-report'].isnull()]\n",
    "\n",
    "\n",
    "# long_string = ','.join(list(papers['final-report'].values))\n",
    "\n",
    "#xa0\n",
    "#print(long_string)\n",
    "# Create a WordCloud object\n",
    "#wordcloud = WordCloud(background_color=\"white\", max_words=5000, contour_width=3, contour_color='steelblue')\n",
    "# Generate a word cloud\n",
    "#wordcloud.generate(long_string)\n",
    "# Visualize the word cloud\n",
    "#wordcloud.to_image()\n",
    "\n",
    "\n"
   ]
  },
  {
   "cell_type": "code",
   "execution_count": 6,
   "metadata": {},
   "outputs": [
    {
     "name": "stdout",
     "output_type": "stream",
     "text": [
      "<class 'pandas.core.frame.DataFrame'>\n",
      "Index: 0 entries\n",
      "Columns: 24599 entries, {\"/data-reports/fatality-reports/2019/november-16-2019-fatality\": {\"report-url\": \"https://www.msha.gov/data-reports/fatality-reports/2019/november-16-2019-fatality\" to  \"final-report\": {}}}\n",
      "dtypes: object(24599)\n",
      "memory usage: 0.0+ bytes\n"
     ]
    }
   ],
   "source": [
    "papers.info()"
   ]
  },
  {
   "cell_type": "code",
   "execution_count": null,
   "metadata": {},
   "outputs": [],
   "source": [
    "# Generate a word cloud image\n",
    "wordcloud = WordCloud().generate(long_string)\n",
    "\n",
    "# Display the generated image:\n",
    "# the matplotlib way:\n",
    "import matplotlib.pyplot as plt\n",
    "%matplotlib inline\n",
    "plt.imshow(wordcloud, interpolation='bilinear')\n",
    "plt.axis(\"off\")\n",
    "\n",
    "# lower max_font_size\n",
    "wordcloud = WordCloud(max_font_size=40).generate(long_string)\n",
    "plt.figure()\n",
    "plt.imshow(wordcloud, interpolation=\"bilinear\")\n",
    "plt.axis(\"off\")\n",
    "plt.show()"
   ]
  }
 ],
 "metadata": {
  "kernelspec": {
   "display_name": "text_info",
   "language": "python",
   "name": "text_info"
  },
  "language_info": {
   "codemirror_mode": {
    "name": "ipython",
    "version": 3
   },
   "file_extension": ".py",
   "mimetype": "text/x-python",
   "name": "python",
   "nbconvert_exporter": "python",
   "pygments_lexer": "ipython3",
   "version": "3.7.5"
  }
 },
 "nbformat": 4,
 "nbformat_minor": 2
}
