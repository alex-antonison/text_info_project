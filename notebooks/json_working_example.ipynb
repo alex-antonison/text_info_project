{
 "cells": [
  {
   "cell_type": "code",
   "execution_count": 3,
   "metadata": {},
   "outputs": [],
   "source": [
    "import json\n",
    "import pprint\n",
    "pp = pprint.PrettyPrinter(indent=4)"
   ]
  },
  {
   "cell_type": "markdown",
   "metadata": {},
   "source": [
    "How to load the example:"
   ]
  },
  {
   "cell_type": "code",
   "execution_count": 4,
   "metadata": {},
   "outputs": [],
   "source": [
    "with open(\"../data/example_scrape_data.json\") as json_file:\n",
    "    data = json.load(json_file)"
   ]
  },
  {
   "cell_type": "markdown",
   "metadata": {},
   "source": [
    "This shows how you see the different keys"
   ]
  },
  {
   "cell_type": "code",
   "execution_count": 5,
   "metadata": {},
   "outputs": [
    {
     "data": {
      "text/plain": [
       "dict_keys(['september-17-2019-american-eagle-mine-kanawha-county-wv', 'september-5-2019-cardinal-mine-hopkins-county-ky'])"
      ]
     },
     "execution_count": 5,
     "metadata": {},
     "output_type": "execute_result"
    }
   ],
   "source": [
    "data.keys()"
   ]
  },
  {
   "cell_type": "markdown",
   "metadata": {},
   "source": [
    "Here I am printing out the different keys for the values for a report and then the report files"
   ]
  },
  {
   "cell_type": "code",
   "execution_count": 11,
   "metadata": {},
   "outputs": [
    {
     "name": "stdout",
     "output_type": "stream",
     "text": [
      "september-17-2019-american-eagle-mine-kanawha-county-wv\n",
      "{   'date': '2019-09-17',\n",
      "    'fatality-report': 'COAL MINE FATALITY – On September 17, 2019, an '\n",
      "                       'electrician was electrocuted when he contacted an '\n",
      "                       'energized conductor. The victim contacted a 995 VAC '\n",
      "                       'connector while attempting to troubleshoot the '\n",
      "                       'scrubber motor circuit on a continuous mining machine.',\n",
      "    'location': 'American Eagle Mine, Kanawha County, WV',\n",
      "    'mine-controller': 'Blackhawk Mining LLC',\n",
      "    'mine-type': 'Underground',\n",
      "    'mined-mineral': ' Coal (Bituminous)',\n",
      "    'preliminary-report': 'An electrician was electrocuted while '\n",
      "                          'troubleshooting the electrical circuit for the '\n",
      "                          'scrubber on a continuous mining machine. He was '\n",
      "                          'working on the Number 1 Section, 007-0 MMU when the '\n",
      "                          'accident occurred. The information provided in this '\n",
      "                          'notice is based on preliminary data ONLY and does '\n",
      "                          'not represent final determination regarding the '\n",
      "                          'nature of the incident or conclusions regarding the '\n",
      "                          'cause of the accident.',\n",
      "    'public-notice': 'This posting serves to provide a public notice to '\n",
      "                     'employees of the mine, employees of the mining '\n",
      "                     'company(s), employees of independent contractors with '\n",
      "                     'any connection to the mine, persons with any connection '\n",
      "                     'to the mine, and any person with information regarding '\n",
      "                     'the cause or contributing factors of this accident. '\n",
      "                     'Please provide any information to: Larry Hedrick , Lead '\n",
      "                     'Investigator:  Phone: 304-877-3900 ext. 212'}\n",
      "september-5-2019-cardinal-mine-hopkins-county-ky\n",
      "{   'date': '2019-09-05',\n",
      "    'fatality-report': 'MINE FATALITY ALERT – On September 5, 2019, a '\n",
      "                       'continuous mining machine helper was fatally injured '\n",
      "                       'when he was struck by a battery-powered scoop. The '\n",
      "                       'victim was in the #3 entry behind a wing curtain that '\n",
      "                       'provided ventilation to the #3 right crosscut being '\n",
      "                       'mined. The scoop was trammed through the #3 left '\n",
      "                       'crosscut and struck the victim as it made a right-hand '\n",
      "                       'turn and passed through the wing curtain.',\n",
      "    'location': 'Cardinal Mine, Hopkins County, KY',\n",
      "    'mine-controller': 'Alliance Resource Partners LP',\n",
      "    'mine-type': 'Underground',\n",
      "    'mined-mineral': ' Coal (Bituminous)',\n",
      "    'preliminary-report': 'A continuous mining machine helper was fatally '\n",
      "                          'injured when he was struck by a battery-powered '\n",
      "                          'scoop.  The victim was in the #3 entry behind a '\n",
      "                          'wing curtain that provided ventilation to the #3 '\n",
      "                          'right crosscut that was being mined.  A scoop, '\n",
      "                          'carrying roof bolting supplies, was trammed through '\n",
      "                          'the #3 left crosscut, and struck the victim as it '\n",
      "                          'made a right-hand turn and passed through the wing '\n",
      "                          'curtain.',\n",
      "    'public-notice': 'This posting serves to provide a public notice to '\n",
      "                     'employees of the mine, employees of the mining '\n",
      "                     'company(s), employees of independent contractors with '\n",
      "                     'any connection to the mine, persons with any connection '\n",
      "                     'to the mine, and any person with information regarding '\n",
      "                     'the cause or contributing factors of this accident. '\n",
      "                     'Please provide any information to: Matthew Stone, Lead '\n",
      "                     'Investigator:  Phone: 270-213-1720'}\n"
     ]
    }
   ],
   "source": [
    "for key in data.keys():\n",
    "    print(key)\n",
    "    pp.pprint(data[key])"
   ]
  }
 ],
 "metadata": {
  "kernelspec": {
   "display_name": "Python (text_info)",
   "language": "python",
   "name": "text_info"
  },
  "language_info": {
   "codemirror_mode": {
    "name": "ipython",
    "version": 3
   },
   "file_extension": ".py",
   "mimetype": "text/x-python",
   "name": "python",
   "nbconvert_exporter": "python",
   "pygments_lexer": "ipython3",
   "version": "3.7.4"
  }
 },
 "nbformat": 4,
 "nbformat_minor": 2
}
