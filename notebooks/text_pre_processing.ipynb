{
 "cells": [
  {
   "cell_type": "code",
   "execution_count": 1,
   "metadata": {},
   "outputs": [],
   "source": [
    "import pandas as pd\n",
    "import json\n",
    "\n",
    "pd.options.display.max_colwidth = 100"
   ]
  },
  {
   "cell_type": "code",
   "execution_count": 2,
   "metadata": {},
   "outputs": [
    {
     "data": {
      "text/plain": [
       "-154"
      ]
     },
     "execution_count": 2,
     "metadata": {},
     "output_type": "execute_result"
    }
   ],
   "source": [
    "276-430"
   ]
  },
  {
   "cell_type": "code",
   "execution_count": 194,
   "metadata": {},
   "outputs": [
    {
     "data": {
      "text/plain": [
       "(276, 11)"
      ]
     },
     "execution_count": 194,
     "metadata": {},
     "output_type": "execute_result"
    }
   ],
   "source": [
    "df = pd.read_csv(\"../data/final_Report.csv\")\n",
    "\n",
    "df.shape"
   ]
  },
  {
   "cell_type": "code",
   "execution_count": null,
   "metadata": {},
   "outputs": [],
   "source": []
  },
  {
   "cell_type": "code",
   "execution_count": 37,
   "metadata": {},
   "outputs": [],
   "source": [
    "import pandas as pd\n",
    "import json\n",
    "\n",
    "with open(\"../data/report_info.json\") as json_file:\n",
    "    data = json.load(json_file)\n",
    "    \n",
    "# turn dictionary into dataframe\n",
    "df = pd.DataFrame.from_dict(data, orient='index').reset_index()\n",
    "\n",
    "# rename index into report_key\n",
    "df.rename(columns={'index':'report_key'}, inplace=True)\n",
    "\n",
    "df.drop(columns=['public-notice', 'preliminary-report', 'fatality-alert', 'final-report'], inplace=True)\n",
    "\n",
    "# pulls last thing from the location\n",
    "for i in range(df.shape[0]):\n",
    "    df.loc[i, 'location-processed'] = df.loc[i,'location'].split(\",\")[-1].replace(\" \", \"\")\n",
    "    \n",
    "state_map = pd.read_csv(\"../reference/state_mapping.csv\")\n",
    "    \n",
    "df = df.merge(state_map, on='location-processed', how='left')\n",
    "\n",
    "df['state'] = df['state'].combine_first(df['location-processed'])"
   ]
  },
  {
   "cell_type": "code",
   "execution_count": 39,
   "metadata": {},
   "outputs": [
    {
     "data": {
      "text/html": [
       "<div>\n",
       "<style scoped>\n",
       "    .dataframe tbody tr th:only-of-type {\n",
       "        vertical-align: middle;\n",
       "    }\n",
       "\n",
       "    .dataframe tbody tr th {\n",
       "        vertical-align: top;\n",
       "    }\n",
       "\n",
       "    .dataframe thead th {\n",
       "        text-align: right;\n",
       "    }\n",
       "</style>\n",
       "<table border=\"1\" class=\"dataframe\">\n",
       "  <thead>\n",
       "    <tr style=\"text-align: right;\">\n",
       "      <th></th>\n",
       "      <th>report_key</th>\n",
       "      <th>report-url</th>\n",
       "      <th>accidnet-classification</th>\n",
       "      <th>location</th>\n",
       "      <th>mine-type</th>\n",
       "      <th>mine-controller</th>\n",
       "      <th>mined-mineral</th>\n",
       "      <th>incident-date</th>\n",
       "      <th>location-processed</th>\n",
       "      <th>state</th>\n",
       "    </tr>\n",
       "  </thead>\n",
       "  <tbody>\n",
       "  </tbody>\n",
       "</table>\n",
       "</div>"
      ],
      "text/plain": [
       "Empty DataFrame\n",
       "Columns: [report_key, report-url, accidnet-classification, location, mine-type, mine-controller, mined-mineral, incident-date, location-processed, state]\n",
       "Index: []"
      ]
     },
     "execution_count": 39,
     "metadata": {},
     "output_type": "execute_result"
    }
   ],
   "source": [
    "df[df['state'].isnull()]"
   ]
  },
  {
   "cell_type": "code",
   "execution_count": 187,
   "metadata": {},
   "outputs": [],
   "source": [
    "# put into csv\n",
    "df.to_csv(\"../data/base_fatality_reports.csv\", index=False)"
   ]
  },
  {
   "cell_type": "code",
   "execution_count": 188,
   "metadata": {},
   "outputs": [
    {
     "name": "stdout",
     "output_type": "stream",
     "text": [
      "<class 'pandas.core.frame.DataFrame'>\n",
      "RangeIndex: 429 entries, 0 to 428\n",
      "Data columns (total 8 columns):\n",
      "report_key                 429 non-null object\n",
      "report-url                 429 non-null object\n",
      "accidnet-classification    429 non-null object\n",
      "location                   429 non-null object\n",
      "mine-type                  429 non-null object\n",
      "mine-controller            429 non-null object\n",
      "mined-mineral              429 non-null object\n",
      "incident-date              429 non-null object\n",
      "dtypes: object(8)\n",
      "memory usage: 26.9+ KB\n"
     ]
    }
   ],
   "source": [
    "test_csv.info()"
   ]
  },
  {
   "cell_type": "code",
   "execution_count": 150,
   "metadata": {},
   "outputs": [],
   "source": [
    "# turn dictionary into dataframe\n",
    "df = pd.DataFrame.from_dict(data, orient='index').reset_index()\n",
    "\n",
    "# rename index into report_key\n",
    "df.rename(columns={'index':'report_key'}, inplace=True)"
   ]
  },
  {
   "cell_type": "code",
   "execution_count": 98,
   "metadata": {},
   "outputs": [],
   "source": [
    "# Incorporate fatality_alert into columns\n",
    "df_fatality_alert = pd.concat([df.drop(['fatality-alert'], axis=1), df['fatality-alert'].apply(pd.Series)], axis=1)\n",
    "df_fatality_alert.rename(columns={'summary':'fatality-alert-summary', \n",
    "                                  'additional_info': 'fatality-alert-additional_info',\n",
    "                                  'best-practices': 'fatality-alert-best-practices'}, inplace=True)"
   ]
  },
  {
   "cell_type": "code",
   "execution_count": 141,
   "metadata": {},
   "outputs": [
    {
     "data": {
      "text/plain": [
       "'Ryan I. Charbonneau, a 32-year-old general manager with over 14 years of mining experience, died on July 17, 2019, at 12:13 p.m., when a hydraulic hammer attachment (hammer) fell on him.\\xa0 Charbonneau was preparing to replace the motor on a crusher using an excavator with the hammer attached.\\xa0 Charbonneau stood below the hammer and signaled the excavator operator into position over the old drive motor.\\xa0 The hammer fell from the excavator, struck Charbonneau, and pinned him on the crusher work platform.The accident occurred because: 1) The operator did not remove the excavator from service to repair damaged hydraulic components; and\\xa0 2) The installed carrier attachment was incompatible with the Fleco 325B C-linkage quick coupler (quick coupler), rendering the secondary means of latching inoperative when the primary means of latching failed.'"
      ]
     },
     "execution_count": 141,
     "metadata": {},
     "output_type": "execute_result"
    }
   ],
   "source": [
    "# The report_key /data-reports/fatality-reports/2009/fatality-14-october-27-2009 did not get processed\n",
    "# correctly.  The headers are not set right\n",
    "df[~df['final-report'].isnull()].loc[10,'final-report']['OVERVIEW']\n",
    "\n",
    "# Bring in final-report columns\n",
    "# df['final-report']\n",
    "# df_final_report = pd.concat([df.drop(['final-report'], axis=1), df['final-report'].apply(pd.Series)], axis=1)\n",
    "# df_final_report\n",
    "# df_fatality_alert.rename(columns={'summary':'fatality-alert-summary', \n",
    "#                                   'additional_info': 'fatality-alert-additional_info',\n",
    "#                                   'best-practices': 'fatality-alert-best-practices'}, inplace=True)"
   ]
  }
 ],
 "metadata": {
  "kernelspec": {
   "display_name": "Python (text_info)",
   "language": "python",
   "name": "text_info"
  },
  "language_info": {
   "codemirror_mode": {
    "name": "ipython",
    "version": 3
   },
   "file_extension": ".py",
   "mimetype": "text/x-python",
   "name": "python",
   "nbconvert_exporter": "python",
   "pygments_lexer": "ipython3",
   "version": "3.6.8"
  }
 },
 "nbformat": 4,
 "nbformat_minor": 2
}
