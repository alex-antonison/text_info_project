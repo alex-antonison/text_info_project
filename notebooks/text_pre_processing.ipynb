{
 "cells": [
  {
   "cell_type": "code",
   "execution_count": 142,
   "metadata": {},
   "outputs": [],
   "source": [
    "import pandas as pd\n",
    "import json\n",
    "\n",
    "pd.options.display.max_colwidth = 100"
   ]
  },
  {
   "cell_type": "code",
   "execution_count": 148,
   "metadata": {},
   "outputs": [
    {
     "data": {
      "text/plain": [
       "-154"
      ]
     },
     "execution_count": 148,
     "metadata": {},
     "output_type": "execute_result"
    }
   ],
   "source": [
    "276-430"
   ]
  },
  {
   "cell_type": "code",
   "execution_count": 147,
   "metadata": {},
   "outputs": [
    {
     "data": {
      "text/plain": [
       "(276, 11)"
      ]
     },
     "execution_count": 147,
     "metadata": {},
     "output_type": "execute_result"
    }
   ],
   "source": [
    "df = pd.read_csv(\"../data/final_Report.csv\")\n",
    "\n",
    "df.shape"
   ]
  },
  {
   "cell_type": "code",
   "execution_count": 163,
   "metadata": {},
   "outputs": [
    {
     "data": {
      "text/plain": [
       "(429, 8)"
      ]
     },
     "execution_count": 163,
     "metadata": {},
     "output_type": "execute_result"
    }
   ],
   "source": [
    "import pandas as pd\n",
    "import json\n",
    "\n",
    "with open(\"../data/report_info.json\") as json_file:\n",
    "    data = json.load(json_file)\n",
    "    \n",
    "# turn dictionary into dataframe\n",
    "df = pd.DataFrame.from_dict(data, orient='index').reset_index()\n",
    "\n",
    "# rename index into report_key\n",
    "df.rename(columns={'index':'report_key'}, inplace=True)\n",
    "\n",
    "df.drop(columns=['public-notice', 'preliminary-report', 'fatality-alert', 'final-report'], inplace=True)\n",
    "\n",
    "\n"
   ]
  },
  {
   "cell_type": "code",
   "execution_count": null,
   "metadata": {},
   "outputs": [],
   "source": []
  },
  {
   "cell_type": "code",
   "execution_count": 186,
   "metadata": {},
   "outputs": [
    {
     "data": {
      "text/html": [
       "<div>\n",
       "<style scoped>\n",
       "    .dataframe tbody tr th:only-of-type {\n",
       "        vertical-align: middle;\n",
       "    }\n",
       "\n",
       "    .dataframe tbody tr th {\n",
       "        vertical-align: top;\n",
       "    }\n",
       "\n",
       "    .dataframe thead th {\n",
       "        text-align: right;\n",
       "    }\n",
       "</style>\n",
       "<table border=\"1\" class=\"dataframe\">\n",
       "  <thead>\n",
       "    <tr style=\"text-align: right;\">\n",
       "      <th></th>\n",
       "      <th>report_key</th>\n",
       "      <th>report-url</th>\n",
       "      <th>accidnet-classification</th>\n",
       "      <th>location</th>\n",
       "      <th>mine-type</th>\n",
       "      <th>mine-controller</th>\n",
       "      <th>mined-mineral</th>\n",
       "      <th>incident-date</th>\n",
       "      <th>location-processed</th>\n",
       "    </tr>\n",
       "  </thead>\n",
       "  <tbody>\n",
       "    <tr>\n",
       "      <th>0</th>\n",
       "      <td>/data-reports/fatality-reports/2019/november-16-2019-fatality</td>\n",
       "      <td>https://www.msha.gov/data-reports/fatality-reports/2019/november-16-2019-fatality</td>\n",
       "      <td>Machinery</td>\n",
       "      <td>EP Engineered Clays Corporation, Hinds County,  MS</td>\n",
       "      <td>Metal and Non-Metal</td>\n",
       "      <td>USS Holdings Inc</td>\n",
       "      <td>Clay Ceramic Refractory Mnls</td>\n",
       "      <td>2019-11-16T00:00:00-05:00</td>\n",
       "      <td>MS</td>\n",
       "    </tr>\n",
       "    <tr>\n",
       "      <th>1</th>\n",
       "      <td>/data-reports/fatality-reports/2019/november-5-2019-fatality</td>\n",
       "      <td>https://www.msha.gov/data-reports/fatality-reports/2019/november-5-2019-fatality</td>\n",
       "      <td>Powered Haulage</td>\n",
       "      <td>ArcelorMittal Minorca Mine Inc, St Louis County,  MN</td>\n",
       "      <td>Metal and Non-Metal</td>\n",
       "      <td>ArcelorMittal USA LLC</td>\n",
       "      <td>Iron Ore</td>\n",
       "      <td>2019-11-05T00:00:00-05:00</td>\n",
       "      <td>MN</td>\n",
       "    </tr>\n",
       "    <tr>\n",
       "      <th>2</th>\n",
       "      <td>/data-reports/fatality-reports/2019/september-17-2019-fatality</td>\n",
       "      <td>https://www.msha.gov/data-reports/fatality-reports/2019/september-17-2019-fatality</td>\n",
       "      <td>Electrical</td>\n",
       "      <td>American Eagle Mine, Kanawha County,  WV</td>\n",
       "      <td>Coal</td>\n",
       "      <td>Blackhawk Mining LLC</td>\n",
       "      <td>Coal (Bituminous)</td>\n",
       "      <td>2019-09-17T00:00:00-04:00</td>\n",
       "      <td>WV</td>\n",
       "    </tr>\n",
       "    <tr>\n",
       "      <th>3</th>\n",
       "      <td>/data-reports/fatality-reports/2019/september-5-2019-fatality</td>\n",
       "      <td>https://www.msha.gov/data-reports/fatality-reports/2019/september-5-2019-fatality</td>\n",
       "      <td>Powered Haulage</td>\n",
       "      <td>Cardinal Mine, Hopkins County,  KY</td>\n",
       "      <td>Coal</td>\n",
       "      <td>Alliance Resource Partners LP</td>\n",
       "      <td>Coal (Bituminous)</td>\n",
       "      <td>2019-09-05T00:00:00-04:00</td>\n",
       "      <td>KY</td>\n",
       "    </tr>\n",
       "    <tr>\n",
       "      <th>4</th>\n",
       "      <td>/data-reports/fatality-reports/2019/august-29-2019-fatality</td>\n",
       "      <td>https://www.msha.gov/data-reports/fatality-reports/2019/august-29-2019-fatality</td>\n",
       "      <td>Fall of Face, Rib, Side or Highwall</td>\n",
       "      <td>Enlow Fork Mine, Consol Pennsylvannia</td>\n",
       "      <td>Coal</td>\n",
       "      <td>CONSOL Energy Inc</td>\n",
       "      <td>Coal (Bituminous)</td>\n",
       "      <td>2019-08-29T00:00:00-04:00</td>\n",
       "      <td>ConsolPennsylvannia</td>\n",
       "    </tr>\n",
       "    <tr>\n",
       "      <th>...</th>\n",
       "      <td>...</td>\n",
       "      <td>...</td>\n",
       "      <td>...</td>\n",
       "      <td>...</td>\n",
       "      <td>...</td>\n",
       "      <td>...</td>\n",
       "      <td>...</td>\n",
       "      <td>...</td>\n",
       "      <td>...</td>\n",
       "    </tr>\n",
       "    <tr>\n",
       "      <th>424</th>\n",
       "      <td>/data-reports/fatality-reports/2008/fatality-1-january-8-2008</td>\n",
       "      <td>https://www.msha.gov/data-reports/fatality-reports/2008/fatality-1-january-8-2008</td>\n",
       "      <td>Powered Haulage</td>\n",
       "      <td>Blue Ridge Surface Mine, Kentucky</td>\n",
       "      <td>Coal</td>\n",
       "      <td>Arch Coal, Inc.</td>\n",
       "      <td>Coal (Bituminous)</td>\n",
       "      <td>2008-01-08T12:45:00-05:00</td>\n",
       "      <td>Kentucky</td>\n",
       "    </tr>\n",
       "    <tr>\n",
       "      <th>425</th>\n",
       "      <td>/data-reports/fatality-reports/2007/fatality-3-february-19-2007</td>\n",
       "      <td>https://www.msha.gov/data-reports/fatality-reports/2007/fatality-3-february-19-2007</td>\n",
       "      <td>Non-Powered Haulage</td>\n",
       "      <td>Bakers Quarry, North Carolina</td>\n",
       "      <td>Metal and Non-Metal</td>\n",
       "      <td>Martin Marietta Materials Inc</td>\n",
       "      <td>Crushed, Broken Limestone NEC</td>\n",
       "      <td>2007-02-19T00:00:00-05:00</td>\n",
       "      <td>NorthCarolina</td>\n",
       "    </tr>\n",
       "    <tr>\n",
       "      <th>426</th>\n",
       "      <td>/data-reports/fatality-reports/2007/fatality-28-february-2-2007</td>\n",
       "      <td>https://www.msha.gov/data-reports/fatality-reports/2007/fatality-28-february-2-2007</td>\n",
       "      <td>Hand Tools</td>\n",
       "      <td>Chantilly Crushed Stone Incorporated, Virginia</td>\n",
       "      <td>Metal and Non-Metal</td>\n",
       "      <td>John  Gudelsky</td>\n",
       "      <td>Crushed, Broken Traprock</td>\n",
       "      <td>2007-02-02T13:45:00-05:00</td>\n",
       "      <td>Virginia</td>\n",
       "    </tr>\n",
       "    <tr>\n",
       "      <th>427</th>\n",
       "      <td>/data-reports/fatality-reports/2007/fatality-2-january-25-2007</td>\n",
       "      <td>https://www.msha.gov/data-reports/fatality-reports/2007/fatality-2-january-25-2007</td>\n",
       "      <td>Fall of Roof or Back</td>\n",
       "      <td>Pend Oreille Mine, Washington</td>\n",
       "      <td>Metal and Non-Metal</td>\n",
       "      <td>Teck Resources Limited</td>\n",
       "      <td>Zinc</td>\n",
       "      <td>2007-02-02T01:00:00-05:00</td>\n",
       "      <td>Washington</td>\n",
       "    </tr>\n",
       "    <tr>\n",
       "      <th>428</th>\n",
       "      <td>/data-reports/fatality-reports/2007/fatality-1-january-2-2007</td>\n",
       "      <td>https://www.msha.gov/data-reports/fatality-reports/2007/fatality-1-january-2-2007</td>\n",
       "      <td>Other</td>\n",
       "      <td>Bayer Alumina Plant, Texas</td>\n",
       "      <td>Metal and Non-Metal</td>\n",
       "      <td>Alcoa Inc</td>\n",
       "      <td>Alumina</td>\n",
       "      <td>2007-01-02T13:40:00-05:00</td>\n",
       "      <td>Texas</td>\n",
       "    </tr>\n",
       "  </tbody>\n",
       "</table>\n",
       "<p>429 rows × 9 columns</p>\n",
       "</div>"
      ],
      "text/plain": [
       "                                                          report_key  \\\n",
       "0      /data-reports/fatality-reports/2019/november-16-2019-fatality   \n",
       "1       /data-reports/fatality-reports/2019/november-5-2019-fatality   \n",
       "2     /data-reports/fatality-reports/2019/september-17-2019-fatality   \n",
       "3      /data-reports/fatality-reports/2019/september-5-2019-fatality   \n",
       "4        /data-reports/fatality-reports/2019/august-29-2019-fatality   \n",
       "..                                                               ...   \n",
       "424    /data-reports/fatality-reports/2008/fatality-1-january-8-2008   \n",
       "425  /data-reports/fatality-reports/2007/fatality-3-february-19-2007   \n",
       "426  /data-reports/fatality-reports/2007/fatality-28-february-2-2007   \n",
       "427   /data-reports/fatality-reports/2007/fatality-2-january-25-2007   \n",
       "428    /data-reports/fatality-reports/2007/fatality-1-january-2-2007   \n",
       "\n",
       "                                                                              report-url  \\\n",
       "0      https://www.msha.gov/data-reports/fatality-reports/2019/november-16-2019-fatality   \n",
       "1       https://www.msha.gov/data-reports/fatality-reports/2019/november-5-2019-fatality   \n",
       "2     https://www.msha.gov/data-reports/fatality-reports/2019/september-17-2019-fatality   \n",
       "3      https://www.msha.gov/data-reports/fatality-reports/2019/september-5-2019-fatality   \n",
       "4        https://www.msha.gov/data-reports/fatality-reports/2019/august-29-2019-fatality   \n",
       "..                                                                                   ...   \n",
       "424    https://www.msha.gov/data-reports/fatality-reports/2008/fatality-1-january-8-2008   \n",
       "425  https://www.msha.gov/data-reports/fatality-reports/2007/fatality-3-february-19-2007   \n",
       "426  https://www.msha.gov/data-reports/fatality-reports/2007/fatality-28-february-2-2007   \n",
       "427   https://www.msha.gov/data-reports/fatality-reports/2007/fatality-2-january-25-2007   \n",
       "428    https://www.msha.gov/data-reports/fatality-reports/2007/fatality-1-january-2-2007   \n",
       "\n",
       "                 accidnet-classification  \\\n",
       "0                              Machinery   \n",
       "1                        Powered Haulage   \n",
       "2                             Electrical   \n",
       "3                        Powered Haulage   \n",
       "4    Fall of Face, Rib, Side or Highwall   \n",
       "..                                   ...   \n",
       "424                      Powered Haulage   \n",
       "425                  Non-Powered Haulage   \n",
       "426                           Hand Tools   \n",
       "427                 Fall of Roof or Back   \n",
       "428                                Other   \n",
       "\n",
       "                                                 location  \\\n",
       "0      EP Engineered Clays Corporation, Hinds County,  MS   \n",
       "1    ArcelorMittal Minorca Mine Inc, St Louis County,  MN   \n",
       "2                American Eagle Mine, Kanawha County,  WV   \n",
       "3                      Cardinal Mine, Hopkins County,  KY   \n",
       "4                   Enlow Fork Mine, Consol Pennsylvannia   \n",
       "..                                                    ...   \n",
       "424                     Blue Ridge Surface Mine, Kentucky   \n",
       "425                         Bakers Quarry, North Carolina   \n",
       "426        Chantilly Crushed Stone Incorporated, Virginia   \n",
       "427                         Pend Oreille Mine, Washington   \n",
       "428                            Bayer Alumina Plant, Texas   \n",
       "\n",
       "               mine-type                mine-controller  \\\n",
       "0    Metal and Non-Metal               USS Holdings Inc   \n",
       "1    Metal and Non-Metal          ArcelorMittal USA LLC   \n",
       "2                   Coal           Blackhawk Mining LLC   \n",
       "3                   Coal  Alliance Resource Partners LP   \n",
       "4                   Coal              CONSOL Energy Inc   \n",
       "..                   ...                            ...   \n",
       "424                 Coal                Arch Coal, Inc.   \n",
       "425  Metal and Non-Metal  Martin Marietta Materials Inc   \n",
       "426  Metal and Non-Metal                 John  Gudelsky   \n",
       "427  Metal and Non-Metal         Teck Resources Limited   \n",
       "428  Metal and Non-Metal                      Alcoa Inc   \n",
       "\n",
       "                     mined-mineral              incident-date  \\\n",
       "0     Clay Ceramic Refractory Mnls  2019-11-16T00:00:00-05:00   \n",
       "1                         Iron Ore  2019-11-05T00:00:00-05:00   \n",
       "2                Coal (Bituminous)  2019-09-17T00:00:00-04:00   \n",
       "3                Coal (Bituminous)  2019-09-05T00:00:00-04:00   \n",
       "4                Coal (Bituminous)  2019-08-29T00:00:00-04:00   \n",
       "..                             ...                        ...   \n",
       "424              Coal (Bituminous)  2008-01-08T12:45:00-05:00   \n",
       "425  Crushed, Broken Limestone NEC  2007-02-19T00:00:00-05:00   \n",
       "426       Crushed, Broken Traprock  2007-02-02T13:45:00-05:00   \n",
       "427                           Zinc  2007-02-02T01:00:00-05:00   \n",
       "428                        Alumina  2007-01-02T13:40:00-05:00   \n",
       "\n",
       "      location-processed  \n",
       "0                     MS  \n",
       "1                     MN  \n",
       "2                     WV  \n",
       "3                     KY  \n",
       "4    ConsolPennsylvannia  \n",
       "..                   ...  \n",
       "424             Kentucky  \n",
       "425        NorthCarolina  \n",
       "426             Virginia  \n",
       "427           Washington  \n",
       "428                Texas  \n",
       "\n",
       "[429 rows x 9 columns]"
      ]
     },
     "execution_count": 186,
     "metadata": {},
     "output_type": "execute_result"
    }
   ],
   "source": [
    "df"
   ]
  },
  {
   "cell_type": "code",
   "execution_count": 185,
   "metadata": {},
   "outputs": [],
   "source": [
    "for i in range(df.shape[0]):\n",
    "    df.loc[i, 'location-processed'] = df.loc[i,'location'].split(\",\")[-1].replace(\" \", \"\")"
   ]
  },
  {
   "cell_type": "code",
   "execution_count": null,
   "metadata": {},
   "outputs": [],
   "source": [
    "# put into csv\n",
    "df.to_csv(\"../data/base_fatality_reports.csv\", index=False)"
   ]
  },
  {
   "cell_type": "code",
   "execution_count": 164,
   "metadata": {},
   "outputs": [
    {
     "name": "stdout",
     "output_type": "stream",
     "text": [
      "<class 'pandas.core.frame.DataFrame'>\n",
      "RangeIndex: 429 entries, 0 to 428\n",
      "Data columns (total 8 columns):\n",
      "report_key                 429 non-null object\n",
      "report-url                 429 non-null object\n",
      "accidnet-classification    429 non-null object\n",
      "location                   429 non-null object\n",
      "mine-type                  429 non-null object\n",
      "mine-controller            429 non-null object\n",
      "mined-mineral              429 non-null object\n",
      "incident-date              429 non-null object\n",
      "dtypes: object(8)\n",
      "memory usage: 26.9+ KB\n"
     ]
    }
   ],
   "source": [
    "test_csv.info()"
   ]
  },
  {
   "cell_type": "code",
   "execution_count": 150,
   "metadata": {},
   "outputs": [],
   "source": [
    "# turn dictionary into dataframe\n",
    "df = pd.DataFrame.from_dict(data, orient='index').reset_index()\n",
    "\n",
    "# rename index into report_key\n",
    "df.rename(columns={'index':'report_key'}, inplace=True)"
   ]
  },
  {
   "cell_type": "code",
   "execution_count": 98,
   "metadata": {},
   "outputs": [],
   "source": [
    "# Incorporate fatality_alert into columns\n",
    "df_fatality_alert = pd.concat([df.drop(['fatality-alert'], axis=1), df['fatality-alert'].apply(pd.Series)], axis=1)\n",
    "df_fatality_alert.rename(columns={'summary':'fatality-alert-summary', \n",
    "                                  'additional_info': 'fatality-alert-additional_info',\n",
    "                                  'best-practices': 'fatality-alert-best-practices'}, inplace=True)"
   ]
  },
  {
   "cell_type": "code",
   "execution_count": 141,
   "metadata": {},
   "outputs": [
    {
     "data": {
      "text/plain": [
       "'Ryan I. Charbonneau, a 32-year-old general manager with over 14 years of mining experience, died on July 17, 2019, at 12:13 p.m., when a hydraulic hammer attachment (hammer) fell on him.\\xa0 Charbonneau was preparing to replace the motor on a crusher using an excavator with the hammer attached.\\xa0 Charbonneau stood below the hammer and signaled the excavator operator into position over the old drive motor.\\xa0 The hammer fell from the excavator, struck Charbonneau, and pinned him on the crusher work platform.The accident occurred because: 1) The operator did not remove the excavator from service to repair damaged hydraulic components; and\\xa0 2) The installed carrier attachment was incompatible with the Fleco 325B C-linkage quick coupler (quick coupler), rendering the secondary means of latching inoperative when the primary means of latching failed.'"
      ]
     },
     "execution_count": 141,
     "metadata": {},
     "output_type": "execute_result"
    }
   ],
   "source": [
    "# The report_key /data-reports/fatality-reports/2009/fatality-14-october-27-2009 did not get processed\n",
    "# correctly.  The headers are not set right\n",
    "df[~df['final-report'].isnull()].loc[10,'final-report']['OVERVIEW']\n",
    "\n",
    "# Bring in final-report columns\n",
    "# df['final-report']\n",
    "# df_final_report = pd.concat([df.drop(['final-report'], axis=1), df['final-report'].apply(pd.Series)], axis=1)\n",
    "# df_final_report\n",
    "# df_fatality_alert.rename(columns={'summary':'fatality-alert-summary', \n",
    "#                                   'additional_info': 'fatality-alert-additional_info',\n",
    "#                                   'best-practices': 'fatality-alert-best-practices'}, inplace=True)"
   ]
  },
  {
   "cell_type": "code",
   "execution_count": null,
   "metadata": {},
   "outputs": [],
   "source": []
  },
  {
   "cell_type": "code",
   "execution_count": null,
   "metadata": {},
   "outputs": [],
   "source": []
  }
 ],
 "metadata": {
  "kernelspec": {
   "display_name": "Python (text_info)",
   "language": "python",
   "name": "text_info"
  },
  "language_info": {
   "codemirror_mode": {
    "name": "ipython",
    "version": 3
   },
   "file_extension": ".py",
   "mimetype": "text/x-python",
   "name": "python",
   "nbconvert_exporter": "python",
   "pygments_lexer": "ipython3",
   "version": "3.6.8"
  }
 },
 "nbformat": 4,
 "nbformat_minor": 2
}
