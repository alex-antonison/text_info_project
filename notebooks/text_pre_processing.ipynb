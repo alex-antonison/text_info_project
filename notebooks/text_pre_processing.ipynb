{
 "cells": [
  {
   "cell_type": "code",
   "execution_count": 127,
   "metadata": {},
   "outputs": [],
   "source": [
    "import pandas as pd\n",
    "import json\n",
    "\n",
    "pd.options.display.max_colwidth = 100"
   ]
  },
  {
   "cell_type": "code",
   "execution_count": 110,
   "metadata": {},
   "outputs": [],
   "source": [
    "with open(\"../data/report_info.json\") as json_file:\n",
    "    data = json.load(json_file)"
   ]
  },
  {
   "cell_type": "code",
   "execution_count": 111,
   "metadata": {},
   "outputs": [],
   "source": [
    "# turn dictionary into dataframe\n",
    "df = pd.DataFrame.from_dict(data, orient='index').reset_index()\n",
    "\n",
    "# rename index into report_key\n",
    "df.rename(columns={'index':'report_key'}, inplace=True)"
   ]
  },
  {
   "cell_type": "code",
   "execution_count": 98,
   "metadata": {},
   "outputs": [],
   "source": [
    "# Incorporate fatality_alert into columns\n",
    "df_fatality_alert = pd.concat([df.drop(['fatality-alert'], axis=1), df['fatality-alert'].apply(pd.Series)], axis=1)\n",
    "df_fatality_alert.rename(columns={'summary':'fatality-alert-summary', \n",
    "                                  'additional_info': 'fatality-alert-additional_info',\n",
    "                                  'best-practices': 'fatality-alert-best-practices'}, inplace=True)"
   ]
  },
  {
   "cell_type": "code",
   "execution_count": 141,
   "metadata": {},
   "outputs": [
    {
     "data": {
      "text/plain": [
       "'Ryan I. Charbonneau, a 32-year-old general manager with over 14 years of mining experience, died on July 17, 2019, at 12:13 p.m., when a hydraulic hammer attachment (hammer) fell on him.\\xa0 Charbonneau was preparing to replace the motor on a crusher using an excavator with the hammer attached.\\xa0 Charbonneau stood below the hammer and signaled the excavator operator into position over the old drive motor.\\xa0 The hammer fell from the excavator, struck Charbonneau, and pinned him on the crusher work platform.The accident occurred because: 1) The operator did not remove the excavator from service to repair damaged hydraulic components; and\\xa0 2) The installed carrier attachment was incompatible with the Fleco 325B C-linkage quick coupler (quick coupler), rendering the secondary means of latching inoperative when the primary means of latching failed.'"
      ]
     },
     "execution_count": 141,
     "metadata": {},
     "output_type": "execute_result"
    }
   ],
   "source": [
    "# The report_key /data-reports/fatality-reports/2009/fatality-14-october-27-2009 did not get processed\n",
    "# correctly.  The headers are not set right\n",
    "df[~df['final-report'].isnull()].loc[10,'final-report']['OVERVIEW']\n",
    "\n",
    "# Bring in final-report columns\n",
    "# df['final-report']\n",
    "# df_final_report = pd.concat([df.drop(['final-report'], axis=1), df['final-report'].apply(pd.Series)], axis=1)\n",
    "# df_final_report\n",
    "# df_fatality_alert.rename(columns={'summary':'fatality-alert-summary', \n",
    "#                                   'additional_info': 'fatality-alert-additional_info',\n",
    "#                                   'best-practices': 'fatality-alert-best-practices'}, inplace=True)"
   ]
  },
  {
   "cell_type": "code",
   "execution_count": null,
   "metadata": {},
   "outputs": [],
   "source": []
  },
  {
   "cell_type": "code",
   "execution_count": null,
   "metadata": {},
   "outputs": [],
   "source": []
  }
 ],
 "metadata": {
  "kernelspec": {
   "display_name": "Python (text_info)",
   "language": "python",
   "name": "text_info"
  },
  "language_info": {
   "codemirror_mode": {
    "name": "ipython",
    "version": 3
   },
   "file_extension": ".py",
   "mimetype": "text/x-python",
   "name": "python",
   "nbconvert_exporter": "python",
   "pygments_lexer": "ipython3",
   "version": "3.6.8"
  }
 },
 "nbformat": 4,
 "nbformat_minor": 2
}
